{
 "cells": [
  {
   "cell_type": "markdown",
   "id": "668bc571-30e9-45d6-8c0d-345f8dc9b1b9",
   "metadata": {},
   "source": [
    "# Exercise 12.3 - Autoencoders\n",
    "\n",
    "In exercise 12.3, we are required to teach a deep neural network autoencoder to build a linear model for the flow around a cylinder. Use high-fidelity flow around a cylinder data to learn a coordinate  (autoencoder) transformation to an (r = 3)-dimensional subspace where the dynamics  is linear and a Koopman operator can be constructed. In the new linear coordinates,  compute the eigenvalues and eigenvectors of the latent state representation. Use the model  to forecast the future state and compare with the high-fidelity simulations.  Exercise 12.4 Learn a deep neural network autoencoder to build a parsimonious,"
   ]
  },
  {
   "cell_type": "code",
   "execution_count": 1,
   "id": "aff39e04-4cae-4167-9539-21c99426780a",
   "metadata": {},
   "outputs": [],
   "source": [
    "import os\n",
    "os.environ[\"KMP_DUPLICATE_LIB_OK\"]=\"TRUE\"\n",
    "os.environ[\"CUDA_VISIBLE_DEVICES\"] = \"-1\"\n",
    "os.environ['TF_CPP_MIN_LOG_LEVEL'] = '3'  \n",
    "\n",
    "import numpy as np\n",
    "import matplotlib.pyplot as plt\n",
    "import scipy\n",
    "\n",
    "import tensorflow as tf\n",
    "from tensorflow.keras.models import Model\n",
    "from tensorflow.keras import layers, losses , optimizers"
   ]
  },
  {
   "cell_type": "markdown",
   "id": "53e31256-154f-4128-861d-fe7f8e831d6a",
   "metadata": {},
   "source": [
    "Import the dataset describing the motion of a flid across a cylinder, already used in exercise 3.X01."
   ]
  },
  {
   "cell_type": "code",
   "execution_count": 2,
   "id": "d1f3d191-f06a-468e-8b70-52ee84231753",
   "metadata": {},
   "outputs": [
    {
     "name": "stdout",
     "output_type": "stream",
     "text": [
      "(89351, 151)\n"
     ]
    }
   ],
   "source": [
    "cylinder_data = scipy.io.loadmat(\"../DATA/CYLINDER_ALL.mat\")\n",
    "\n",
    "m = cylinder_data['m'].squeeze()\n",
    "n = cylinder_data['n'].squeeze()\n",
    "X = cylinder_data['VORTALL']\n",
    "print(X.shape)"
   ]
  },
  {
   "cell_type": "markdown",
   "id": "8884326b-ae9c-45f3-921a-749459684729",
   "metadata": {},
   "source": [
    "Prepare the dataset to train the autoencoder; if we call $T$ the number of snapshots, ```input_dataset``` contains the first $( 0 , ... T-2 )$ snaphots and ```output_datase``` contains the last $( 1 , ... T-1 )$ snapshots. The snapshots are then shuffled."
   ]
  },
  {
   "cell_type": "code",
   "execution_count": 3,
   "id": "d1252ab6-2289-4394-9443-fe572ab23d3b",
   "metadata": {},
   "outputs": [],
   "source": [
    "input_d = X[ : , :-1 ]\n",
    "output_d = X[ : , 1: ]\n",
    "\n",
    "# Random shuffle.\n",
    "idx = np.random.choice( input_d.shape[1] , input_d.shape[1]  , replace = False )\n",
    "input_dataset = input_d[ : , idx ]\n",
    "output_dataset = output_d[ : , idx ]"
   ]
  },
  {
   "cell_type": "markdown",
   "id": "a4422327-975c-4121-8b3d-7aaaeab5c9e1",
   "metadata": {},
   "source": [
    "Define the deep autoencoder, which is composed of three main structures:\n",
    "1) **The Encoder:** it is a sequential network composed of six layers, with hidden units which goes from nxm to 3. As its name suggests the encoder encodes one snapshot, $x_k$, in a latent space with dimnsion r = 3:\n",
    "\n",
    "$$y_k=\\phi(x_k)$$\n",
    "\n",
    "2) **The Koopeman operator:** two sequential layers with linear activation function and no biases lay in the middle of the deep autoencoder. They encode a Koopeman operator, i.e. a linear map which describes the dynamic between latent state $k$ and latent state $k+1$: \n",
    "\n",
    "$$K_{\\Delta t}y_k=y_{k+1}$$\n",
    "\n",
    "3) **The decoder:** the decoder is equivalent to the encoder, but reversed. It maps the latent state representation of the dynamic system, $y_{k+1}$, back to the full starting dimensionality \n",
    "\n",
    "$$x_{k+1}=\\phi^{-1}(y_{k+1})$$\n",
    "\n",
    "A nice picture describing this architecture can be found at page 304 of the book, second edition."
   ]
  },
  {
   "cell_type": "code",
   "execution_count": 4,
   "id": "ef5bcc74-b2d9-404f-8393-8e72195b7eb8",
   "metadata": {},
   "outputs": [],
   "source": [
    "class Autoencoder( Model ):\n",
    "  def __init__( self , input_dim , latent_dim , output_dim ):\n",
    "    \n",
    "    super( Autoencoder , self ).__init__()\n",
    "    self.latent_dim = latent_dim   \n",
    "    \n",
    "    # Encoder.\n",
    "    self.encoder = tf.keras.Sequential([\n",
    "\n",
    "    layers.Dense( int( input_dim / 100 ) , activation = \"selu\" , input_shape=( input_dim , )),\n",
    "    layers.Dense( int( input_dim / 250 ) , activation = \"selu\" ),\n",
    "    layers.Dense( int( input_dim / 500 ) , activation = \"selu\" ),    \n",
    "    layers.Dense( int( input_dim / 750 ) , activation = \"selu\" ),\n",
    "    layers.Dense( int( input_dim / 1000 ) , activation = \"selu\" ),\n",
    "    layers.Dense( int( input_dim / 1250 ) , activation = \"selu\" ),\n",
    "    layers.Dense( latent_dim , activation = \"selu\" ),\n",
    "        \n",
    "    ])\n",
    "    \n",
    "    # Koopeman operator.\n",
    "    self.K = tf.keras.Sequential([ \n",
    "        \n",
    "    layers.Dense( latent_dim , activation = \"linear\" , use_bias=False ),\n",
    "    layers.Dense( latent_dim , activation = \"linear\" , use_bias=False )\n",
    "        \n",
    "    ])\n",
    "    \n",
    "    # Decoder.\n",
    "    self.decoder = tf.keras.Sequential([\n",
    "        \n",
    "    layers.Dense( latent_dim , activation = \"selu\" ),\n",
    "    layers.Dense( int( input_dim / 1250 ) , activation = \"selu\" ),\n",
    "    layers.Dense( int( input_dim / 1000 ) , activation = \"selu\" ),\n",
    "    layers.Dense( int( input_dim / 750 ) , activation = \"selu\" ),\n",
    "    layers.Dense( int( input_dim / 500 ) , activation = \"selu\" ),\n",
    "    layers.Dense( int( input_dim / 250 ) , activation = \"selu\" ),\n",
    "    layers.Dense( int( input_dim / 100 ) , activation = \"selu\"  ),\n",
    "    layers.Dense( output_dim , activation = \"linear\" ),\n",
    "        \n",
    "    ])\n",
    "\n",
    "  def call( self , x ):\n",
    "    \n",
    "    encoded = self.encoder( x )\n",
    "    K = self.K( encoded )\n",
    "    decoded = self.decoder( K )\n",
    "    \n",
    "    return decoded"
   ]
  },
  {
   "cell_type": "markdown",
   "id": "934df171-0b96-499a-98fc-cc507e904aef",
   "metadata": {},
   "source": [
    "Compile and fit the model."
   ]
  },
  {
   "cell_type": "code",
   "execution_count": 5,
   "id": "f890a184-e530-420b-a13c-af0944ef6438",
   "metadata": {},
   "outputs": [],
   "source": [
    "input_dim = input_d.shape[0]\n",
    "output_dim = output_d.shape[0]\n",
    "latent_dim = 3\n",
    "autoencoder = Autoencoder( input_dim , latent_dim , output_dim )\n",
    "autoencoder.compile( optimizer = optimizers.Adam( learning_rate = 0.001 ) , loss = losses.MeanSquaredError() )\n",
    "\n",
    "from keras.callbacks import EarlyStopping\n",
    "callback = EarlyStopping( monitor='loss' , patience = 50 , min_delta = 1e-10)\n",
    "\n",
    "H = autoencoder.fit( input_dataset.T , output_dataset.T , epochs = 300, batch_size = 200 , shuffle = True , callbacks=[callback] , verbose = 0 )"
   ]
  },
  {
   "cell_type": "markdown",
   "id": "fea8b4d2-3ed6-41f0-a93e-e469fd40b411",
   "metadata": {},
   "source": [
    "Extract the Koopeman operator, compute its eigenvalues and eigenvectors."
   ]
  },
  {
   "cell_type": "code",
   "execution_count": 6,
   "id": "8fd1213b-b2aa-4b45-8467-ff6caa5e682d",
   "metadata": {},
   "outputs": [],
   "source": [
    "K = autoencoder.K.layers[0].get_weights()[0]\n",
    "Lambdas , Phi = np.linalg.eig( K )"
   ]
  },
  {
   "cell_type": "code",
   "execution_count": 7,
   "id": "3afaf42e-b2f9-4fed-911c-c034b4e850ce",
   "metadata": {},
   "outputs": [
    {
     "data": {
      "image/png": "[encoded data removed]",
      "text/plain": [
       "<Figure size 1400x400 with 4 Axes>"
      ]
     },
     "metadata": {},
     "output_type": "display_data"
    }
   ],
   "source": [
    "fig , ax = plt.subplots( 1 , 4 , figsize = ( 14 , 4 ) )\n",
    "for ii , Lambda in enumerate( Lambdas ):\n",
    "    ax[0].scatter( np.real(Lambda) , np.imag(Lambda) , marker = \"*\" , s = 100 , label = str(ii)+\"$^{th}$ eigenvalue\" )\n",
    "ax[0].set_xlabel(\"Real part\")\n",
    "ax[0].set_ylabel(\"Imaginary part\")\n",
    "ax[0].legend()\n",
    "ii = 0\n",
    "for phi , c in zip( Phi , [ \"blue\" , \"orange\" , \"green\" ] ):\n",
    "    ax[ ii + 1 ].plot( np.real( phi ) , marker = \"s\" , linestyle = \" \" , color = c , markersize = 10 , label = \"real part\" )\n",
    "    ax[ ii + 1 ].plot( np.imag( phi ) , marker = \"o\" , linestyle = \" \" , color = c , markersize = 5 , label = \"imaginary part\" )\n",
    "    ax[ ii + 1 ].set_title( str(ii) + \"$^{th}$ eigenvalue\" )\n",
    "    ax[ ii + 1 ].set_xlabel(\"# entry\")\n",
    "    ax[ ii + 1 ].legend()\n",
    "    ii = ii + 1\n",
    "plt.tight_layout()"
   ]
  },
  {
   "cell_type": "markdown",
   "id": "f37738aa-a615-4f48-a7a7-368d5861b0cd",
   "metadata": {},
   "source": [
    "Make predictions using the autoencoder and compare with high fidelity simulations. The deep AE looks quite capable to recover the system dynamic throught the latent space. "
   ]
  },
  {
   "cell_type": "code",
   "execution_count": 8,
   "id": "9a7727a2-ac7b-4d6a-bf29-f540cede49ae",
   "metadata": {},
   "outputs": [
    {
     "name": "stdout",
     "output_type": "stream",
     "text": [
      "\r",
      "1/5 [=====>........................] - ETA: 0s"
     ]
    },
    {
     "name": "stdout",
     "output_type": "stream",
     "text": [
      "\b\b\b\b\b\b\b\b\b\b\b\b\b\b\b\b\b\b\b\b\b\b\b\b\b\b\b\b\b\b\b\b\b\b\b\b\b\b\b\b\b\b\b\b\b\b\r",
      "3/5 [=================>............] - ETA: 0s"
     ]
    },
    {
     "name": "stdout",
     "output_type": "stream",
     "text": [
      "\b\b\b\b\b\b\b\b\b\b\b\b\b\b\b\b\b\b\b\b\b\b\b\b\b\b\b\b\b\b\b\b\b\b\b\b\b\b\b\b\b\b\b\b\b\b\r",
      "5/5 [==============================] - ETA: 0s"
     ]
    },
    {
     "name": "stdout",
     "output_type": "stream",
     "text": [
      "\b\b\b\b\b\b\b\b\b\b\b\b\b\b\b\b\b\b\b\b\b\b\b\b\b\b\b\b\b\b\b\b\b\b\b\b\b\b\b\b\b\b\b\b\b\b\r",
      "5/5 [==============================] - 0s 33ms/step\n"
     ]
    }
   ],
   "source": [
    "X_pred = autoencoder.predict( input_d.T )\n",
    "X_pred = X_pred.T\n",
    "X_pred = X_pred.reshape(( n , m , 150))"
   ]
  },
  {
   "cell_type": "code",
   "execution_count": 9,
   "id": "ed44adbb-085d-42ff-b456-9ef6e71a2488",
   "metadata": {},
   "outputs": [],
   "source": [
    "# this code was used to produce the animation below\n",
    "\n",
    "# from matplotlib.animation import FuncAnimation\n",
    "# import matplotlib as mpl\n",
    "# mpl.rcParams[\"figure.facecolor\"] = \"white\"\n",
    "# from mpl_toolkits.axes_grid1 import make_axes_locatable\n",
    "    \n",
    "# real_data = output_d.reshape(( n , m , 150))\n",
    "# predictions = X_pred\n",
    "# error = X_pred - output_d.reshape(( n , m , 150))\n",
    "\n",
    "# total_frames = predictions.shape[-1]\n",
    "\n",
    "# # First set up the figure, the axis, and the plot element we want to animate\n",
    "# fig, axes = plt.subplots( 1 , 3 , figsize = ( 10 , 7 ) , sharey = True )\n",
    "\n",
    "\n",
    "# labels = ['Simulation', 'Prediction', 'Error']\n",
    "# zz = [real_data,predictions,error]\n",
    "# images = []\n",
    "\n",
    "# for tt, label, z in zip( range( axes.shape[-1] ) , labels , zz ):\n",
    "#     vmin = np.min(z[ : , : , tt ])\n",
    "#     vmax = np.max(z[ : , : , tt ])\n",
    "#     p = axes[tt].imshow( z[ : , : , tt ] , cmap='RdBu_r', vmin = vmin , vmax = vmax )\n",
    "#     axes[tt].set_title( label )\n",
    "#     images.append( p )\n",
    "#     div = make_axes_locatable( axes[tt] )\n",
    "#     cax = div.append_axes('right', '5%', pad = 0.1 )\n",
    "#     fig.colorbar( p , cax = cax )\n",
    "# plt.tight_layout()\n",
    "\n",
    "\n",
    "# # animation function.  This is called sequentially\n",
    "# def animate(i, zz):\n",
    "#     for idx_im, (image, z) in enumerate( zip( images , zz ) ):\n",
    "#         image.set_array(z[ : , : , i ])\n",
    "\n",
    "\n",
    "# anim = FuncAnimation(fig, lambda i: animate(i, zz), frames=total_frames, interval=5)\n",
    "\n",
    "# video_name = 'AE_predictions.mp4'\n",
    "# anim.save(video_name, fps=total_frames/10, extra_args=['-vcodec', 'libx264'])\n",
    "# plt.close()"
   ]
  },
  {
   "cell_type": "code",
   "execution_count": 10,
   "id": "c67b95b4-9e9e-49b2-96b6-e06914d87780",
   "metadata": {},
   "outputs": [
    {
     "data": {
      "text/html": [
       "<iframe width=\"560\" height=\"315\" src=\"https://www.youtube.com/embed/WLxJbQU_K68\" title=\"YouTube video player\" frameborder=\"0\" \n",
       "allow=\"accelerometer; autoplay; clipboard-write; encrypted-media; gyroscope; picture-in-picture; web-share\" allowfullscreen></iframe>\n"
      ],
      "text/plain": [
       "<IPython.core.display.HTML object>"
      ]
     },
     "metadata": {},
     "output_type": "display_data"
    }
   ],
   "source": [
    "%%HTML\n",
    "<iframe width=\"560\" height=\"315\" src=\"https://www.youtube.com/embed/WLxJbQU_K68\" title=\"YouTube video player\" frameborder=\"0\" \n",
    "allow=\"accelerometer; autoplay; clipboard-write; encrypted-media; gyroscope; picture-in-picture; web-share\" allowfullscreen></iframe>"
   ]
  },
  {
   "cell_type": "markdown",
   "id": "fe6de7ed-0df3-4984-90df-019ad5ec9629",
   "metadata": {},
   "source": [
    "You can fine the video at this link: [Autoencoder predictions](https://youtu.be/WLxJbQU_K68)"
   ]
  }
 ],
 "metadata": {
  "kernelspec": {
   "display_name": "jupybook",
   "language": "python",
   "name": "python3"
  },
  "language_info": {
   "codemirror_mode": {
    "name": "ipython",
    "version": 3
   },
   "file_extension": ".py",
   "mimetype": "text/x-python",
   "name": "python",
   "nbconvert_exporter": "python",
   "pygments_lexer": "ipython3",
   "version": "3.10.8"
  }
 },
 "nbformat": 4,
 "nbformat_minor": 5
}