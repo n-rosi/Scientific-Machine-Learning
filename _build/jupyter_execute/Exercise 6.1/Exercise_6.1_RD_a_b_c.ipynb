{
 "cells": [
  {
   "cell_type": "markdown",
   "id": "3796ea08-fccb-4d6c-9e07-0f022e01bb22",
   "metadata": {},
   "source": [
    "# Neural Network for Numerical Integration on the Reaction Diffusion System\n",
    "\n",
    "This notebook contains the solution to part (a), (b) and (c) of exercise 6.1 for the KS equations.\n",
    "\n",
    "## (a) \n",
    "\n",
    "**Reaction–diffusion systems** are mathematical models which correspond to several physical phenomena. Mathematically, reaction–diffusion systems take the form of semi-linear parabolic partial differential equations. They can be represented in the general form:\n",
    "\n",
    "$$ \\partial_t \\vec{q} = D \\nabla^2 \\vec{q}  +  \\vec{R}(\\vec{q}) $$\n",
    "\n",
    "where $\\vec{q}(x, t)$ represents the unknown vector function, $D$ is a diagonal matrix of diffusion coefficients, and $\\vec{R}$ accounts for all local reactions. "
   ]
  },
  {
   "cell_type": "code",
   "execution_count": 1,
   "id": "62611778-2942-4bba-b558-09e2aba4159b",
   "metadata": {
    "tags": []
   },
   "outputs": [],
   "source": [
    "# Import the necessary libraries.\n",
    "import numpy as np\n",
    "import scipy.io\n",
    "import os\n",
    "os.environ[\"KMP_DUPLICATE_LIB_OK\"]=\"TRUE\"\n",
    "import time\n",
    "\n",
    "# Import plotting libraries and tools.\n",
    "import matplotlib.pyplot as plt\n",
    "from IPython.display import HTML\n",
    "from matplotlib.animation import FuncAnimation"
   ]
  },
  {
   "cell_type": "markdown",
   "id": "fa94df86-6ff4-481c-8c0f-a1ac0ae0fdee",
   "metadata": {},
   "source": [
    " ## Dataset\n",
    " \n",
    " The dataset is composed of $201$ frames (temporal dimension) with $(251 \\times 251)$ pixels each (space dimension). The dependent variables of the problem, whose dynamic is collected in the aforementioned frameworks, are $U$ and $V$; in the following we will analyse only $U$, which is represented in the video below.\n",
    " \n",
    "While we dedicated exercise 6.1 with the Kuramoto–Sivashinsky to compare the performances of two neural networks ( RNN and FFNN), we will implement here only the case of FFNN, because it matches better what was required from the exercise, in addition, to make the exercise more compact, we will only explore the casistic $\\Delta T = 1$; then, given $\\Delta T$:\n",
    "\n",
    "- The network takes as input a single snips at time $j$, $U^{(j)}\\in\\,M(251\\times 251)$.\n",
    "- The network is required to predict $U^{(j+\\Delta T)}\\in\\,M(251\\times 251)$.\n",
    " \n",
    "\n",
    "Import and plot the dataset."
   ]
  },
  {
   "cell_type": "code",
   "execution_count": 2,
   "id": "b019b402-8201-431d-ba10-4a9105d16fcd",
   "metadata": {},
   "outputs": [
    {
     "ename": "FileNotFoundError",
     "evalue": "[Errno 2] No such file or directory: '/home/nrosi/NRprojects/Scientific-Machine-Learning/Exercise 6.1/..\\\\DATA\\\\reaction_diffusion_big.mat'",
     "output_type": "error",
     "traceback": [
      "\u001b[0;31m---------------------------------------------------------------------------\u001b[0m",
      "\u001b[0;31mFileNotFoundError\u001b[0m                         Traceback (most recent call last)",
      "File \u001b[0;32m~/conda/envs/jupybook/lib/python3.10/site-packages/scipy/io/matlab/_mio.py:39\u001b[0m, in \u001b[0;36m_open_file\u001b[0;34m(file_like, appendmat, mode)\u001b[0m\n\u001b[1;32m     38\u001b[0m \u001b[38;5;28;01mtry\u001b[39;00m:\n\u001b[0;32m---> 39\u001b[0m     \u001b[38;5;28;01mreturn\u001b[39;00m \u001b[38;5;28;43mopen\u001b[39;49m\u001b[43m(\u001b[49m\u001b[43mfile_like\u001b[49m\u001b[43m,\u001b[49m\u001b[43m \u001b[49m\u001b[43mmode\u001b[49m\u001b[43m)\u001b[49m, \u001b[38;5;28;01mTrue\u001b[39;00m\n\u001b[1;32m     40\u001b[0m \u001b[38;5;28;01mexcept\u001b[39;00m \u001b[38;5;167;01mOSError\u001b[39;00m \u001b[38;5;28;01mas\u001b[39;00m e:\n\u001b[1;32m     41\u001b[0m     \u001b[38;5;66;03m# Probably \"not found\"\u001b[39;00m\n",
      "\u001b[0;31mFileNotFoundError\u001b[0m: [Errno 2] No such file or directory: '/home/nrosi/NRprojects/Scientific-Machine-Learning/Exercise 6.1/..\\\\DATA\\\\reaction_diffusion_big.mat'",
      "\nDuring handling of the above exception, another exception occurred:\n",
      "\u001b[0;31mFileNotFoundError\u001b[0m                         Traceback (most recent call last)",
      "Cell \u001b[0;32mIn[2], line 7\u001b[0m\n\u001b[1;32m      4\u001b[0m data_path \u001b[38;5;241m=\u001b[39m os\u001b[38;5;241m.\u001b[39mpath\u001b[38;5;241m.\u001b[39mjoin( os\u001b[38;5;241m.\u001b[39mpath\u001b[38;5;241m.\u001b[39mabspath(\u001b[38;5;124m\"\u001b[39m\u001b[38;5;124m\"\u001b[39m) , \u001b[38;5;124m\"\u001b[39m\u001b[38;5;124m..\u001b[39m\u001b[38;5;124m\\\u001b[39m\u001b[38;5;124mDATA\u001b[39m\u001b[38;5;130;01m\\\\\u001b[39;00m\u001b[38;5;124mreaction_diffusion_big.mat\u001b[39m\u001b[38;5;124m\"\u001b[39m )\n\u001b[1;32m      6\u001b[0m \u001b[38;5;66;03m# load the data.\u001b[39;00m\n\u001b[0;32m----> 7\u001b[0m data \u001b[38;5;241m=\u001b[39m \u001b[43mscipy\u001b[49m\u001b[38;5;241;43m.\u001b[39;49m\u001b[43mio\u001b[49m\u001b[38;5;241;43m.\u001b[39;49m\u001b[43mloadmat\u001b[49m\u001b[43m(\u001b[49m\u001b[43m \u001b[49m\u001b[43mdata_path\u001b[49m\u001b[43m \u001b[49m\u001b[43m)\u001b[49m\n\u001b[1;32m      9\u001b[0m \u001b[38;5;66;03m# assign the problem variables.\u001b[39;00m\n\u001b[1;32m     10\u001b[0m T \u001b[38;5;241m=\u001b[39m data[\u001b[38;5;124m\"\u001b[39m\u001b[38;5;124mt\u001b[39m\u001b[38;5;124m\"\u001b[39m]\u001b[38;5;241m.\u001b[39msqueeze()\n",
      "File \u001b[0;32m~/conda/envs/jupybook/lib/python3.10/site-packages/scipy/io/matlab/_mio.py:224\u001b[0m, in \u001b[0;36mloadmat\u001b[0;34m(file_name, mdict, appendmat, **kwargs)\u001b[0m\n\u001b[1;32m     87\u001b[0m \u001b[38;5;250m\u001b[39m\u001b[38;5;124;03m\"\"\"\u001b[39;00m\n\u001b[1;32m     88\u001b[0m \u001b[38;5;124;03mLoad MATLAB file.\u001b[39;00m\n\u001b[1;32m     89\u001b[0m \n\u001b[0;32m   (...)\u001b[0m\n\u001b[1;32m    221\u001b[0m \u001b[38;5;124;03m    3.14159265+3.14159265j])\u001b[39;00m\n\u001b[1;32m    222\u001b[0m \u001b[38;5;124;03m\"\"\"\u001b[39;00m\n\u001b[1;32m    223\u001b[0m variable_names \u001b[38;5;241m=\u001b[39m kwargs\u001b[38;5;241m.\u001b[39mpop(\u001b[38;5;124m'\u001b[39m\u001b[38;5;124mvariable_names\u001b[39m\u001b[38;5;124m'\u001b[39m, \u001b[38;5;28;01mNone\u001b[39;00m)\n\u001b[0;32m--> 224\u001b[0m \u001b[38;5;28;01mwith\u001b[39;00m _open_file_context(file_name, appendmat) \u001b[38;5;28;01mas\u001b[39;00m f:\n\u001b[1;32m    225\u001b[0m     MR, _ \u001b[38;5;241m=\u001b[39m mat_reader_factory(f, \u001b[38;5;241m*\u001b[39m\u001b[38;5;241m*\u001b[39mkwargs)\n\u001b[1;32m    226\u001b[0m     matfile_dict \u001b[38;5;241m=\u001b[39m MR\u001b[38;5;241m.\u001b[39mget_variables(variable_names)\n",
      "File \u001b[0;32m~/conda/envs/jupybook/lib/python3.10/contextlib.py:135\u001b[0m, in \u001b[0;36m_GeneratorContextManager.__enter__\u001b[0;34m(self)\u001b[0m\n\u001b[1;32m    133\u001b[0m \u001b[38;5;28;01mdel\u001b[39;00m \u001b[38;5;28mself\u001b[39m\u001b[38;5;241m.\u001b[39margs, \u001b[38;5;28mself\u001b[39m\u001b[38;5;241m.\u001b[39mkwds, \u001b[38;5;28mself\u001b[39m\u001b[38;5;241m.\u001b[39mfunc\n\u001b[1;32m    134\u001b[0m \u001b[38;5;28;01mtry\u001b[39;00m:\n\u001b[0;32m--> 135\u001b[0m     \u001b[38;5;28;01mreturn\u001b[39;00m \u001b[38;5;28;43mnext\u001b[39;49m\u001b[43m(\u001b[49m\u001b[38;5;28;43mself\u001b[39;49m\u001b[38;5;241;43m.\u001b[39;49m\u001b[43mgen\u001b[49m\u001b[43m)\u001b[49m\n\u001b[1;32m    136\u001b[0m \u001b[38;5;28;01mexcept\u001b[39;00m \u001b[38;5;167;01mStopIteration\u001b[39;00m:\n\u001b[1;32m    137\u001b[0m     \u001b[38;5;28;01mraise\u001b[39;00m \u001b[38;5;167;01mRuntimeError\u001b[39;00m(\u001b[38;5;124m\"\u001b[39m\u001b[38;5;124mgenerator didn\u001b[39m\u001b[38;5;124m'\u001b[39m\u001b[38;5;124mt yield\u001b[39m\u001b[38;5;124m\"\u001b[39m) \u001b[38;5;28;01mfrom\u001b[39;00m \u001b[38;5;28;01mNone\u001b[39;00m\n",
      "File \u001b[0;32m~/conda/envs/jupybook/lib/python3.10/site-packages/scipy/io/matlab/_mio.py:17\u001b[0m, in \u001b[0;36m_open_file_context\u001b[0;34m(file_like, appendmat, mode)\u001b[0m\n\u001b[1;32m     15\u001b[0m \u001b[38;5;129m@contextmanager\u001b[39m\n\u001b[1;32m     16\u001b[0m \u001b[38;5;28;01mdef\u001b[39;00m \u001b[38;5;21m_open_file_context\u001b[39m(file_like, appendmat, mode\u001b[38;5;241m=\u001b[39m\u001b[38;5;124m'\u001b[39m\u001b[38;5;124mrb\u001b[39m\u001b[38;5;124m'\u001b[39m):\n\u001b[0;32m---> 17\u001b[0m     f, opened \u001b[38;5;241m=\u001b[39m \u001b[43m_open_file\u001b[49m\u001b[43m(\u001b[49m\u001b[43mfile_like\u001b[49m\u001b[43m,\u001b[49m\u001b[43m \u001b[49m\u001b[43mappendmat\u001b[49m\u001b[43m,\u001b[49m\u001b[43m \u001b[49m\u001b[43mmode\u001b[49m\u001b[43m)\u001b[49m\n\u001b[1;32m     18\u001b[0m     \u001b[38;5;28;01mtry\u001b[39;00m:\n\u001b[1;32m     19\u001b[0m         \u001b[38;5;28;01myield\u001b[39;00m f\n",
      "File \u001b[0;32m~/conda/envs/jupybook/lib/python3.10/site-packages/scipy/io/matlab/_mio.py:45\u001b[0m, in \u001b[0;36m_open_file\u001b[0;34m(file_like, appendmat, mode)\u001b[0m\n\u001b[1;32m     43\u001b[0m     \u001b[38;5;28;01mif\u001b[39;00m appendmat \u001b[38;5;129;01mand\u001b[39;00m \u001b[38;5;129;01mnot\u001b[39;00m file_like\u001b[38;5;241m.\u001b[39mendswith(\u001b[38;5;124m'\u001b[39m\u001b[38;5;124m.mat\u001b[39m\u001b[38;5;124m'\u001b[39m):\n\u001b[1;32m     44\u001b[0m         file_like \u001b[38;5;241m+\u001b[39m\u001b[38;5;241m=\u001b[39m \u001b[38;5;124m'\u001b[39m\u001b[38;5;124m.mat\u001b[39m\u001b[38;5;124m'\u001b[39m\n\u001b[0;32m---> 45\u001b[0m     \u001b[38;5;28;01mreturn\u001b[39;00m \u001b[38;5;28;43mopen\u001b[39;49m\u001b[43m(\u001b[49m\u001b[43mfile_like\u001b[49m\u001b[43m,\u001b[49m\u001b[43m \u001b[49m\u001b[43mmode\u001b[49m\u001b[43m)\u001b[49m, \u001b[38;5;28;01mTrue\u001b[39;00m\n\u001b[1;32m     46\u001b[0m \u001b[38;5;28;01melse\u001b[39;00m:\n\u001b[1;32m     47\u001b[0m     \u001b[38;5;28;01mraise\u001b[39;00m \u001b[38;5;167;01mOSError\u001b[39;00m(\n\u001b[1;32m     48\u001b[0m         \u001b[38;5;124m'\u001b[39m\u001b[38;5;124mReader needs file name or open file-like object\u001b[39m\u001b[38;5;124m'\u001b[39m\n\u001b[1;32m     49\u001b[0m     ) \u001b[38;5;28;01mfrom\u001b[39;00m \u001b[38;5;21;01me\u001b[39;00m\n",
      "\u001b[0;31mFileNotFoundError\u001b[0m: [Errno 2] No such file or directory: '/home/nrosi/NRprojects/Scientific-Machine-Learning/Exercise 6.1/..\\\\DATA\\\\reaction_diffusion_big.mat'"
     ]
    }
   ],
   "source": [
    "# Import data.\n",
    "\n",
    "# get the right path to the data.\n",
    "data_path = os.path.join( os.path.abspath(\"\") , \"..\\DATA\\\\reaction_diffusion_big.mat\" )\n",
    "\n",
    "# load the data.\n",
    "data = scipy.io.loadmat( data_path )\n",
    "\n",
    "# assign the problem variables.\n",
    "T = data[\"t\"].squeeze()\n",
    "X = data[\"x\"].squeeze()\n",
    "Y = data[\"y\"].squeeze()\n",
    "U = data[\"u\"]\n",
    "T_dim = len(T)\n",
    "X_dim = len(X)\n",
    "Y_dim = len(Y)"
   ]
  },
  {
   "cell_type": "code",
   "execution_count": 3,
   "id": "44f06c25-a5d5-49c5-aa7f-483a242e359d",
   "metadata": {},
   "outputs": [
    {
     "ename": "NameError",
     "evalue": "name 'U' is not defined",
     "output_type": "error",
     "traceback": [
      "\u001b[0;31m---------------------------------------------------------------------------\u001b[0m",
      "\u001b[0;31mNameError\u001b[0m                                 Traceback (most recent call last)",
      "Cell \u001b[0;32mIn[3], line 35\u001b[0m\n\u001b[1;32m     32\u001b[0m     plt\u001b[38;5;241m.\u001b[39mclose()\n\u001b[1;32m     34\u001b[0m video_name \u001b[38;5;241m=\u001b[39m \u001b[38;5;124m'\u001b[39m\u001b[38;5;124mInitial_data_RD.mp4\u001b[39m\u001b[38;5;124m'\u001b[39m\n\u001b[0;32m---> 35\u001b[0m animate_flow( \u001b[43mU\u001b[49m , ( U\u001b[38;5;241m.\u001b[39mshape[\u001b[38;5;241m0\u001b[39m] , U\u001b[38;5;241m.\u001b[39mshape[\u001b[38;5;241m1\u001b[39m] ) , video_name )\n",
      "\u001b[0;31mNameError\u001b[0m: name 'U' is not defined"
     ]
    }
   ],
   "source": [
    "from matplotlib.animation import FuncAnimation\n",
    "import matplotlib.pyplot as plt\n",
    "import matplotlib as mpl\n",
    "mpl.rcParams[\"figure.facecolor\"] = \"white\"\n",
    "from mpl_toolkits.axes_grid1 import make_axes_locatable\n",
    "\n",
    "# First set up the figure, the axis, and the plot element we want to animate\n",
    "def animate_flow( arr , dims , video_name , t = 10 ):\n",
    "    n, m = dims\n",
    "    fig, ax = plt.subplots(1, 1, figsize=(5, 4), sharex=True, sharey=True)\n",
    "    fig.set_size_inches(n/120, m/120) # sets size relative to image size\n",
    "\n",
    "    pos = ax.imshow(arr.reshape(n, m, arr.shape[-1], order='C')[:,:,0].T, \n",
    "                    cmap='RdBu_r',\n",
    "                    vmin= U.min(),\n",
    "                    vmax= U.max())\n",
    "\n",
    "    div = make_axes_locatable(ax)\n",
    "    cax = div.append_axes('right', '5%', '5%')\n",
    "    cb = fig.colorbar(pos, cax=cax)\n",
    "    total_frames = arr.shape[-1]\n",
    "\n",
    "    # animation function.  This is called sequentially\n",
    "    def animate(i):\n",
    "        pos.set_array(arr.reshape(n, m, arr.shape[-1], order='C')[:,:,i].T)\n",
    "        cax.cla()\n",
    "        fig.colorbar(pos, cax=cax)\n",
    "        return pos\n",
    "        \n",
    "    anim = FuncAnimation(fig, animate, frames=total_frames, interval=5)\n",
    "    anim.save(video_name, fps=total_frames/t, extra_args=['-vcodec', 'libx264'])\n",
    "    plt.close()\n",
    "\n",
    "video_name = 'Initial_data_RD.mp4'\n",
    "animate_flow( U , ( U.shape[0] , U.shape[1] ) , video_name )"
   ]
  },
  {
   "cell_type": "markdown",
   "id": "cb903282-c43f-4254-a7ab-bf4f2d77c3af",
   "metadata": {},
   "source": [
    "Link to the video: [Reaction Diffusion dynamic, raw data](https://youtube.com/shorts/9VoTKmVImlo?feature=share)"
   ]
  },
  {
   "cell_type": "markdown",
   "id": "6e6c7ca3-f24b-43b5-8589-7ff818297175",
   "metadata": {},
   "source": [
    "Prepare the input and output dataset; the input dataset contains the first $(0:201 - \\Delta T)$ snips, while the output dataset contains the last $(\\Delta T:201)$ snips. "
   ]
  },
  {
   "cell_type": "code",
   "execution_count": 4,
   "id": "3f6020ea-33b9-4f8f-8439-b99ae2b7d286",
   "metadata": {
    "tags": []
   },
   "outputs": [
    {
     "ename": "NameError",
     "evalue": "name 'U' is not defined",
     "output_type": "error",
     "traceback": [
      "\u001b[0;31m---------------------------------------------------------------------------\u001b[0m",
      "\u001b[0;31mNameError\u001b[0m                                 Traceback (most recent call last)",
      "Cell \u001b[0;32mIn[4], line 5\u001b[0m\n\u001b[1;32m      2\u001b[0m DT \u001b[38;5;241m=\u001b[39m \u001b[38;5;241m1\u001b[39m\n\u001b[1;32m      4\u001b[0m \u001b[38;5;66;03m# divide the dataset between input (past) and output (future).\u001b[39;00m\n\u001b[0;32m----> 5\u001b[0m UIN \u001b[38;5;241m=\u001b[39m \u001b[43mU\u001b[49m[ : , : , :( T_dim \u001b[38;5;241m-\u001b[39m DT ) ]\n\u001b[1;32m      6\u001b[0m UOUT \u001b[38;5;241m=\u001b[39m U[ : , : , DT : ( T_dim ) ] \n\u001b[1;32m      8\u001b[0m dataset_len \u001b[38;5;241m=\u001b[39m T_dim \u001b[38;5;241m-\u001b[39m DT\n",
      "\u001b[0;31mNameError\u001b[0m: name 'U' is not defined"
     ]
    }
   ],
   "source": [
    "# Choose a DELTA T (from 0 to 251)\n",
    "DT = 1\n",
    "\n",
    "# divide the dataset between input (past) and output (future).\n",
    "UIN = U[ : , : , :( T_dim - DT ) ]\n",
    "UOUT = U[ : , : , DT : ( T_dim ) ] \n",
    "\n",
    "dataset_len = T_dim - DT\n",
    "\n",
    "UIN = UIN.reshape( X_dim * Y_dim , dataset_len )\n",
    "UOUT = UOUT.reshape( X_dim * Y_dim , dataset_len )"
   ]
  },
  {
   "cell_type": "markdown",
   "id": "0fbde7fa-ef88-47ab-996e-04538a9ea50a",
   "metadata": {},
   "source": [
    "Once the input and output datset are created, they are shuffled and divided into the **training**, **validation** and **test sets**. "
   ]
  },
  {
   "cell_type": "code",
   "execution_count": 5,
   "id": "df8f30f4-51fd-4374-a771-15f87d75c963",
   "metadata": {
    "tags": []
   },
   "outputs": [
    {
     "ename": "NameError",
     "evalue": "name 'dataset_len' is not defined",
     "output_type": "error",
     "traceback": [
      "\u001b[0;31m---------------------------------------------------------------------------\u001b[0m",
      "\u001b[0;31mNameError\u001b[0m                                 Traceback (most recent call last)",
      "Cell \u001b[0;32mIn[5], line 2\u001b[0m\n\u001b[1;32m      1\u001b[0m \u001b[38;5;66;03m# Divide the dataset between trining, validation and test sets.\u001b[39;00m\n\u001b[0;32m----> 2\u001b[0m train_len \u001b[38;5;241m=\u001b[39m \u001b[38;5;28mint\u001b[39m( \u001b[43mdataset_len\u001b[49m  \u001b[38;5;241m*\u001b[39m \u001b[38;5;241m0.8\u001b[39m )\n\u001b[1;32m      3\u001b[0m val_len \u001b[38;5;241m=\u001b[39m \u001b[38;5;28mint\u001b[39m( dataset_len  \u001b[38;5;241m*\u001b[39m \u001b[38;5;241m0.1\u001b[39m )\n\u001b[1;32m      4\u001b[0m test_len \u001b[38;5;241m=\u001b[39m \u001b[38;5;28mint\u001b[39m( dataset_len  \u001b[38;5;241m*\u001b[39m \u001b[38;5;241m0.1\u001b[39m )\n",
      "\u001b[0;31mNameError\u001b[0m: name 'dataset_len' is not defined"
     ]
    }
   ],
   "source": [
    "# Divide the dataset between trining, validation and test sets.\n",
    "train_len = int( dataset_len  * 0.8 )\n",
    "val_len = int( dataset_len  * 0.1 )\n",
    "test_len = int( dataset_len  * 0.1 )\n",
    "\n",
    "# Random shuffle to select the pairs non-sequentially.\n",
    "idx = np.random.choice( dataset_len , dataset_len , replace = False )\n",
    "idx_train = idx[ 0 : train_len ]\n",
    "idx_val = idx[ train_len : ( train_len + val_len ) ]\n",
    "idx_test = idx[ ( train_len + val_len ): ]\n",
    "\n",
    "# Get the dataset done.\n",
    "TRAIN_IN = UIN[ : , idx_train ].T\n",
    "TRAIN_OUT = UOUT[ : , idx_train ].T  \n",
    "VAL_IN = UIN[ : , idx_val ].T    \n",
    "VAL_OUT = UOUT[ : , idx_val ].T    \n",
    "TEST_IN = UIN[ : , idx_test ].T  \n",
    "TEST_OUT = UOUT[ : , idx_test ].T  "
   ]
  },
  {
   "cell_type": "markdown",
   "id": "9dbeb9f4-4502-4184-8827-910334b2ef21",
   "metadata": {},
   "source": [
    "## Model\n",
    "\n",
    "The model is a simple **FFNN**, with a single hidden-layer of 100 units and the hyperbolic tangent as activation function; It takes as input the $j^{th}$ flattnend snips and gives as output the $(j+\\Delta T)^{th}$ snip. We are using ```Adam``` as optimizer and the ```MSE``` as objective function. \n",
    " \n",
    "\n",
    "Define the model and print the summary."
   ]
  },
  {
   "cell_type": "code",
   "execution_count": 6,
   "id": "91f8339b-e34c-4312-9e63-c99258d88543",
   "metadata": {},
   "outputs": [
    {
     "ename": "NameError",
     "evalue": "name 'X_dim' is not defined",
     "output_type": "error",
     "traceback": [
      "\u001b[0;31m---------------------------------------------------------------------------\u001b[0m",
      "\u001b[0;31mNameError\u001b[0m                                 Traceback (most recent call last)",
      "Cell \u001b[0;32mIn[6], line 6\u001b[0m\n\u001b[1;32m      4\u001b[0m \u001b[38;5;66;03m# Define the hidden units\u001b[39;00m\n\u001b[1;32m      5\u001b[0m hidden_size \u001b[38;5;241m=\u001b[39m \u001b[38;5;241m100\u001b[39m\n\u001b[0;32m----> 6\u001b[0m num_inputs \u001b[38;5;241m=\u001b[39m \u001b[43mX_dim\u001b[49m \u001b[38;5;241m*\u001b[39m Y_dim\n\u001b[1;32m      7\u001b[0m num_outputs \u001b[38;5;241m=\u001b[39m X_dim \u001b[38;5;241m*\u001b[39m Y_dim\n\u001b[1;32m      9\u001b[0m \u001b[38;5;66;03m# Create a sequential model\u001b[39;00m\n",
      "\u001b[0;31mNameError\u001b[0m: name 'X_dim' is not defined"
     ]
    }
   ],
   "source": [
    "from keras.models import Sequential\n",
    "from keras.layers import Dense\n",
    "\n",
    "# Define the hidden units\n",
    "hidden_size = 100\n",
    "num_inputs = X_dim * Y_dim\n",
    "num_outputs = X_dim * Y_dim\n",
    "\n",
    "# Create a sequential model\n",
    "model = Sequential()\n",
    "\n",
    "model.add( Dense( hidden_size , activation = 'tanh', input_shape=( num_inputs , ) ) )\n",
    "model.add( Dense( num_outputs , activation = 'linear' ) )"
   ]
  },
  {
   "cell_type": "markdown",
   "id": "c9f6abef-54bd-462f-9e39-0aa2589a8f1e",
   "metadata": {},
   "source": [
    "\n",
    "Define the loss, the optimizer and compile the model with them."
   ]
  },
  {
   "cell_type": "code",
   "execution_count": 7,
   "id": "00863cd9-259d-450d-8289-5407507b9d7f",
   "metadata": {
    "tags": []
   },
   "outputs": [
    {
     "ename": "NameError",
     "evalue": "name 'model' is not defined",
     "output_type": "error",
     "traceback": [
      "\u001b[0;31m---------------------------------------------------------------------------\u001b[0m",
      "\u001b[0;31mNameError\u001b[0m                                 Traceback (most recent call last)",
      "Cell \u001b[0;32mIn[7], line 7\u001b[0m\n\u001b[1;32m      4\u001b[0m OPTIMIZER \u001b[38;5;241m=\u001b[39m Adam(learning_rate \u001b[38;5;241m=\u001b[39m \u001b[38;5;241m0.01\u001b[39m)\n\u001b[1;32m      5\u001b[0m LOSS \u001b[38;5;241m=\u001b[39m MeanSquaredError()\n\u001b[0;32m----> 7\u001b[0m \u001b[43mmodel\u001b[49m\u001b[38;5;241m.\u001b[39mcompile( optimizer \u001b[38;5;241m=\u001b[39m OPTIMIZER , loss \u001b[38;5;241m=\u001b[39m LOSS )\n",
      "\u001b[0;31mNameError\u001b[0m: name 'model' is not defined"
     ]
    }
   ],
   "source": [
    "from keras.optimizers import Adam\n",
    "from keras.losses import MeanSquaredError\n",
    "\n",
    "OPTIMIZER = Adam(learning_rate = 0.01)\n",
    "LOSS = MeanSquaredError()\n",
    "\n",
    "model.compile( optimizer = OPTIMIZER , loss = LOSS )"
   ]
  },
  {
   "cell_type": "markdown",
   "id": "14f531b5-0d67-4524-85a0-600707174d30",
   "metadata": {},
   "source": [
    "\n",
    "Fit the model."
   ]
  },
  {
   "cell_type": "code",
   "execution_count": 8,
   "id": "1d277fd4-d021-4be1-9c54-729f4b04b1cb",
   "metadata": {
    "tags": []
   },
   "outputs": [
    {
     "ename": "NameError",
     "evalue": "name 'model' is not defined",
     "output_type": "error",
     "traceback": [
      "\u001b[0;31m---------------------------------------------------------------------------\u001b[0m",
      "\u001b[0;31mNameError\u001b[0m                                 Traceback (most recent call last)",
      "Cell \u001b[0;32mIn[8], line 5\u001b[0m\n\u001b[1;32m      1\u001b[0m \u001b[38;5;28;01mfrom\u001b[39;00m \u001b[38;5;21;01mkeras\u001b[39;00m\u001b[38;5;21;01m.\u001b[39;00m\u001b[38;5;21;01mcallbacks\u001b[39;00m \u001b[38;5;28;01mimport\u001b[39;00m EarlyStopping\n\u001b[1;32m      3\u001b[0m callback \u001b[38;5;241m=\u001b[39m EarlyStopping( monitor\u001b[38;5;241m=\u001b[39m\u001b[38;5;124m'\u001b[39m\u001b[38;5;124mval_loss\u001b[39m\u001b[38;5;124m'\u001b[39m , patience \u001b[38;5;241m=\u001b[39m \u001b[38;5;241m5\u001b[39m , min_delta \u001b[38;5;241m=\u001b[39m \u001b[38;5;241m0.0001\u001b[39m )\n\u001b[0;32m----> 5\u001b[0m H \u001b[38;5;241m=\u001b[39m \u001b[43mmodel\u001b[49m\u001b[38;5;241m.\u001b[39mfit( TRAIN_IN , TRAIN_OUT , \n\u001b[1;32m      6\u001b[0m                validation_data \u001b[38;5;241m=\u001b[39m ( VAL_IN , VAL_OUT ) ,\n\u001b[1;32m      7\u001b[0m                validation_freq \u001b[38;5;241m=\u001b[39m \u001b[38;5;241m1\u001b[39m ,\n\u001b[1;32m      8\u001b[0m                epochs \u001b[38;5;241m=\u001b[39m \u001b[38;5;241m600\u001b[39m ,\n\u001b[1;32m      9\u001b[0m                shuffle \u001b[38;5;241m=\u001b[39m \u001b[38;5;28;01mTrue\u001b[39;00m ,\n\u001b[1;32m     10\u001b[0m                callbacks \u001b[38;5;241m=\u001b[39m [callback] ,\n\u001b[1;32m     11\u001b[0m                verbose \u001b[38;5;241m=\u001b[39m \u001b[38;5;241m0\u001b[39m)\n",
      "\u001b[0;31mNameError\u001b[0m: name 'model' is not defined"
     ]
    }
   ],
   "source": [
    "from keras.callbacks import EarlyStopping\n",
    "\n",
    "callback = EarlyStopping( monitor='val_loss' , patience = 5 , min_delta = 0.0001 )\n",
    "\n",
    "H = model.fit( TRAIN_IN , TRAIN_OUT , \n",
    "               validation_data = ( VAL_IN , VAL_OUT ) ,\n",
    "               validation_freq = 1 ,\n",
    "               epochs = 600 ,\n",
    "               shuffle = True ,\n",
    "               callbacks = [callback] ,\n",
    "               verbose = 0)  "
   ]
  },
  {
   "cell_type": "markdown",
   "id": "cd555020-1510-4fcf-873c-ee548caffcb1",
   "metadata": {},
   "source": [
    "\n",
    "Plot the training history; there is **no overfitting** apparently."
   ]
  },
  {
   "cell_type": "code",
   "execution_count": 9,
   "id": "f4ff5a65-ca74-4659-bbf0-338f30baf3e7",
   "metadata": {
    "tags": []
   },
   "outputs": [
    {
     "ename": "NameError",
     "evalue": "name 'H' is not defined",
     "output_type": "error",
     "traceback": [
      "\u001b[0;31m---------------------------------------------------------------------------\u001b[0m",
      "\u001b[0;31mNameError\u001b[0m                                 Traceback (most recent call last)",
      "Cell \u001b[0;32mIn[9], line 2\u001b[0m\n\u001b[1;32m      1\u001b[0m fig , ax \u001b[38;5;241m=\u001b[39m plt\u001b[38;5;241m.\u001b[39msubplots( \u001b[38;5;241m1\u001b[39m , figsize \u001b[38;5;241m=\u001b[39m ( \u001b[38;5;241m5\u001b[39m , \u001b[38;5;241m4\u001b[39m ) )\n\u001b[0;32m----> 2\u001b[0m ax\u001b[38;5;241m.\u001b[39mplot( \u001b[43mH\u001b[49m\u001b[38;5;241m.\u001b[39mhistory[\u001b[38;5;124m\"\u001b[39m\u001b[38;5;124mloss\u001b[39m\u001b[38;5;124m\"\u001b[39m] , label \u001b[38;5;241m=\u001b[39m \u001b[38;5;124m\"\u001b[39m\u001b[38;5;124mtrain loss\u001b[39m\u001b[38;5;124m\"\u001b[39m, color \u001b[38;5;241m=\u001b[39m \u001b[38;5;124m\"\u001b[39m\u001b[38;5;124mskyblue\u001b[39m\u001b[38;5;124m\"\u001b[39m )\n\u001b[1;32m      3\u001b[0m ax\u001b[38;5;241m.\u001b[39mplot( H\u001b[38;5;241m.\u001b[39mhistory[\u001b[38;5;124m\"\u001b[39m\u001b[38;5;124mval_loss\u001b[39m\u001b[38;5;124m\"\u001b[39m] , label \u001b[38;5;241m=\u001b[39m \u001b[38;5;124m\"\u001b[39m\u001b[38;5;124mval loss\u001b[39m\u001b[38;5;124m\"\u001b[39m, color \u001b[38;5;241m=\u001b[39m \u001b[38;5;124m\"\u001b[39m\u001b[38;5;124morange\u001b[39m\u001b[38;5;124m\"\u001b[39m )\n\u001b[1;32m      4\u001b[0m ax\u001b[38;5;241m.\u001b[39mset_xlabel(\u001b[38;5;124m\"\u001b[39m\u001b[38;5;124mepoch\u001b[39m\u001b[38;5;124m\"\u001b[39m)\n",
      "\u001b[0;31mNameError\u001b[0m: name 'H' is not defined"
     ]
    },
    {
     "data": {
      "image/png": "[encoded data removed]",
      "text/plain": [
       "<Figure size 500x400 with 1 Axes>"
      ]
     },
     "metadata": {},
     "output_type": "display_data"
    }
   ],
   "source": [
    "fig , ax = plt.subplots( 1 , figsize = ( 5 , 4 ) )\n",
    "ax.plot( H.history[\"loss\"] , label = \"train loss\", color = \"skyblue\" )\n",
    "ax.plot( H.history[\"val_loss\"] , label = \"val loss\", color = \"orange\" )\n",
    "ax.set_xlabel(\"epoch\")\n",
    "ax.set_ylabel(\"Loss\")\n",
    "ax.set_title('Training histor (FFNN)')\n",
    "\n",
    "fig.tight_layout()\n",
    "plt.legend()\n",
    "plt.show()"
   ]
  },
  {
   "cell_type": "markdown",
   "id": "be44d914-f51f-41e3-a2fe-835899dd3b4e",
   "metadata": {},
   "source": [
    "Import the trained model (if the training was not run) and compute the error over the test set and over the entire dataset."
   ]
  },
  {
   "cell_type": "code",
   "execution_count": 10,
   "id": "a7d0b9ff-ce6d-476e-8ce7-58636c5ca58b",
   "metadata": {
    "tags": []
   },
   "outputs": [
    {
     "name": "stdout",
     "output_type": "stream",
     "text": [
      "Making the predictions:\n"
     ]
    },
    {
     "ename": "NameError",
     "evalue": "name 'model' is not defined",
     "output_type": "error",
     "traceback": [
      "\u001b[0;31m---------------------------------------------------------------------------\u001b[0m",
      "\u001b[0;31mNameError\u001b[0m                                 Traceback (most recent call last)",
      "Cell \u001b[0;32mIn[10], line 6\u001b[0m\n\u001b[1;32m      1\u001b[0m \u001b[38;5;66;03m# Use the following line if you want to load the pretrained model.\u001b[39;00m\n\u001b[1;32m      2\u001b[0m \u001b[38;5;66;03m#model = tf.keras.models.load_model(\"Output/SimpleRNN_RD.h5\")\u001b[39;00m\n\u001b[1;32m      3\u001b[0m \n\u001b[1;32m      4\u001b[0m \u001b[38;5;66;03m#Make predictions.\u001b[39;00m\n\u001b[1;32m      5\u001b[0m \u001b[38;5;28mprint\u001b[39m(\u001b[38;5;124m\"\u001b[39m\u001b[38;5;124mMaking the predictions:\u001b[39m\u001b[38;5;124m\"\u001b[39m)\n\u001b[0;32m----> 6\u001b[0m TEST_PRED \u001b[38;5;241m=\u001b[39m \u001b[43mmodel\u001b[49m\u001b[38;5;241m.\u001b[39mpredict( TEST_IN , verbose \u001b[38;5;241m=\u001b[39m \u001b[38;5;241m0\u001b[39m )\n\u001b[1;32m      7\u001b[0m TOT_PRED \u001b[38;5;241m=\u001b[39m model\u001b[38;5;241m.\u001b[39mpredict( UIN\u001b[38;5;241m.\u001b[39mT , verbose \u001b[38;5;241m=\u001b[39m \u001b[38;5;241m0\u001b[39m)\n\u001b[1;32m      8\u001b[0m TEST_MSE \u001b[38;5;241m=\u001b[39m LOSS( TEST_PRED , TEST_OUT )\n",
      "\u001b[0;31mNameError\u001b[0m: name 'model' is not defined"
     ]
    }
   ],
   "source": [
    "# Use the following line if you want to load the pretrained model.\n",
    "#model = tf.keras.models.load_model(\"Output/SimpleRNN_RD.h5\")\n",
    "\n",
    "#Make predictions.\n",
    "print(\"Making the predictions:\")\n",
    "TEST_PRED = model.predict( TEST_IN , verbose = 0 )\n",
    "TOT_PRED = model.predict( UIN.T , verbose = 0)\n",
    "TEST_MSE = LOSS( TEST_PRED , TEST_OUT )\n",
    "TOT_MSE = LOSS( TOT_PRED , UOUT.T)\n",
    "\n",
    "#Print the results.\n",
    "print(\"\\n--->The MSE on the test set is: {:.3f}\".format(TEST_MSE.numpy()))\n",
    "print(\"--->The MSE on the total dataset set is: {:.3f}\".format(TOT_MSE.numpy()))"
   ]
  },
  {
   "cell_type": "markdown",
   "id": "32bd9126-8450-47b1-be9b-836c43b0dcf1",
   "metadata": {},
   "source": [
    "Plot the real data, the pedictins and the training error per each snip as movies."
   ]
  },
  {
   "cell_type": "code",
   "execution_count": 11,
   "id": "9a3a1f08-c757-4ff5-a3d3-4c93f1ae091e",
   "metadata": {},
   "outputs": [
    {
     "ename": "NameError",
     "evalue": "name 'UOUT' is not defined",
     "output_type": "error",
     "traceback": [
      "\u001b[0;31m---------------------------------------------------------------------------\u001b[0m",
      "\u001b[0;31mNameError\u001b[0m                                 Traceback (most recent call last)",
      "Cell \u001b[0;32mIn[11], line 7\u001b[0m\n\u001b[1;32m      4\u001b[0m \u001b[38;5;28;01mfrom\u001b[39;00m \u001b[38;5;21;01mtqdm\u001b[39;00m \u001b[38;5;28;01mimport\u001b[39;00m tqdm\n\u001b[1;32m      5\u001b[0m \u001b[38;5;28;01mfrom\u001b[39;00m \u001b[38;5;21;01mmpl_toolkits\u001b[39;00m\u001b[38;5;21;01m.\u001b[39;00m\u001b[38;5;21;01maxes_grid1\u001b[39;00m \u001b[38;5;28;01mimport\u001b[39;00m make_axes_locatable\n\u001b[0;32m----> 7\u001b[0m real_data \u001b[38;5;241m=\u001b[39m \u001b[43mUOUT\u001b[49m\u001b[38;5;241m.\u001b[39mT\u001b[38;5;241m.\u001b[39mreshape( T_dim \u001b[38;5;241m-\u001b[39m DT , X_dim , Y_dim )\n\u001b[1;32m      8\u001b[0m predictions \u001b[38;5;241m=\u001b[39m TOT_PRED\u001b[38;5;241m.\u001b[39mreshape( T_dim \u001b[38;5;241m-\u001b[39m DT , X_dim , Y_dim )\n\u001b[1;32m      9\u001b[0m error \u001b[38;5;241m=\u001b[39m ( UOUT\u001b[38;5;241m.\u001b[39mT \u001b[38;5;241m-\u001b[39m TOT_PRED )\u001b[38;5;241m.\u001b[39mreshape( T_dim \u001b[38;5;241m-\u001b[39m DT , X_dim , Y_dim )\n",
      "\u001b[0;31mNameError\u001b[0m: name 'UOUT' is not defined"
     ]
    }
   ],
   "source": [
    "from matplotlib.animation import FuncAnimation\n",
    "import matplotlib as mpl\n",
    "mpl.rcParams[\"figure.facecolor\"] = \"white\"\n",
    "from tqdm import tqdm\n",
    "from mpl_toolkits.axes_grid1 import make_axes_locatable\n",
    "\n",
    "real_data = UOUT.T.reshape( T_dim - DT , X_dim , Y_dim )\n",
    "predictions = TOT_PRED.reshape( T_dim - DT , X_dim , Y_dim )\n",
    "error = ( UOUT.T - TOT_PRED ).reshape( T_dim - DT , X_dim , Y_dim )\n",
    "\n",
    "total_frames = predictions.shape[0]\n",
    "\n",
    "# First set up the figure, the axis, and the plot element we want to animate\n",
    "fig, axes = plt.subplots( 1 , 3 , figsize = ( 10 , 3) , sharey = True )\n",
    "\n",
    "\n",
    "labels = ['Real Data', 'Prediction', 'Error']\n",
    "zz = [real_data,predictions,error]\n",
    "images = []\n",
    "\n",
    "for tt, label, z in zip(range(axes.shape[0]), labels, zz):\n",
    "    vmin = np.min(z[tt, :, :])\n",
    "    vmax = np.max(z[tt, :, :])\n",
    "    p = axes[tt].imshow(z[tt, :, :].reshape(( X_dim , Y_dim ), order='C').T, cmap='RdBu_r', vmin=vmin, vmax=vmax)\n",
    "    axes[tt].set_title(label)\n",
    "    images.append(p)\n",
    "    div = make_axes_locatable(axes[tt])\n",
    "    cax = div.append_axes('right', '5%', pad=0.1)\n",
    "    fig.colorbar(p, cax=cax)\n",
    "\n",
    "plt.tight_layout()\n",
    "\n",
    "\n",
    "# animation function.  This is called sequentially\n",
    "def animate(i, zz):\n",
    "    for idx_im, (image, z) in enumerate( zip( images , zz ) ):\n",
    "        image.set_array(z[ i , : , : ].reshape((X_dim, Y_dim), order='C').T)\n",
    "\n",
    "\n",
    "anim = FuncAnimation(fig, lambda i: animate(i, zz), frames=total_frames, interval=5)\n",
    "\n",
    "video_name = 'NN_predictions_RD.mp4'\n",
    "anim.save(video_name, fps=total_frames/10, extra_args=['-vcodec', 'libx264'])\n",
    "plt.close()"
   ]
  },
  {
   "cell_type": "code",
   "execution_count": 12,
   "id": "464acd89-cecc-4197-b2b5-3d6d6af6f013",
   "metadata": {},
   "outputs": [
    {
     "data": {
      "text/html": [
       "<iframe width=\"560\" height=\"315\" src=\"https://www.youtube.com/embed/pz2eLs6uKcI\" title=\"YouTube video player\" frameborder=\"0\" \n",
       "allow=\"accelerometer; autoplay; clipboard-write; encrypted-media; gyroscope; picture-in-picture; web-share\" allowfullscreen></iframe>\n"
      ],
      "text/plain": [
       "<IPython.core.display.HTML object>"
      ]
     },
     "metadata": {},
     "output_type": "display_data"
    }
   ],
   "source": [
    "%%HTML\n",
    "<iframe width=\"560\" height=\"315\" src=\"https://www.youtube.com/embed/pz2eLs6uKcI\" title=\"YouTube video player\" frameborder=\"0\" \n",
    "allow=\"accelerometer; autoplay; clipboard-write; encrypted-media; gyroscope; picture-in-picture; web-share\" allowfullscreen></iframe>"
   ]
  },
  {
   "cell_type": "markdown",
   "id": "a757a23f-94cf-4a58-a683-481c2995a925",
   "metadata": {},
   "source": [
    "Link to the video: [Neural Network predictions of the Reaction Diffusion dynamic](https://youtu.be/pz2eLs6uKcI)"
   ]
  },
  {
   "cell_type": "markdown",
   "id": "d8e1f1f1-6cd0-42f2-9cec-f726dfa9d612",
   "metadata": {},
   "source": [
    "## (b)\n",
    "\n",
    "Now, we compare the trajectories of the ODE with the trajctories of the FFNN, where the trajector of the FFNN was obtained by feeding the network with its own outputs at the previous step. The video below shows clearly how the error accumulates in time."
   ]
  },
  {
   "cell_type": "code",
   "execution_count": 13,
   "id": "f8a18745-2a59-40db-911c-57f0f2ff8dba",
   "metadata": {},
   "outputs": [
    {
     "ename": "NameError",
     "evalue": "name 'UIN' is not defined",
     "output_type": "error",
     "traceback": [
      "\u001b[0;31m---------------------------------------------------------------------------\u001b[0m",
      "\u001b[0;31mNameError\u001b[0m                                 Traceback (most recent call last)",
      "Cell \u001b[0;32mIn[13], line 1\u001b[0m\n\u001b[0;32m----> 1\u001b[0m FFNN_trajectory \u001b[38;5;241m=\u001b[39m np\u001b[38;5;241m.\u001b[39mzeros( \u001b[43mUIN\u001b[49m\u001b[38;5;241m.\u001b[39mshape )\n\u001b[1;32m      2\u001b[0m FFNN_trajectory[ : , \u001b[38;5;241m0\u001b[39m ] \u001b[38;5;241m=\u001b[39m UIN[ : , \u001b[38;5;241m0\u001b[39m ]\n\u001b[1;32m      3\u001b[0m APP \u001b[38;5;241m=\u001b[39m FFNN_trajectory[ : , \u001b[38;5;241m0\u001b[39m ]\n",
      "\u001b[0;31mNameError\u001b[0m: name 'UIN' is not defined"
     ]
    }
   ],
   "source": [
    "FFNN_trajectory = np.zeros( UIN.shape )\n",
    "FFNN_trajectory[ : , 0 ] = UIN[ : , 0 ]\n",
    "APP = FFNN_trajectory[ : , 0 ]\n",
    "\n",
    "for i in range( 1 , T_dim - 1 , 1 ):\n",
    "    FFNN_trajectory[ : , i ] = model.predict( APP[None , : ] , verbose = 0) \n",
    "    APP = FFNN_trajectory[ : , i ]"
   ]
  },
  {
   "cell_type": "code",
   "execution_count": 14,
   "id": "9322dece-1e41-4107-ae10-1d34aa3fc518",
   "metadata": {},
   "outputs": [
    {
     "ename": "NameError",
     "evalue": "name 'UOUT' is not defined",
     "output_type": "error",
     "traceback": [
      "\u001b[0;31m---------------------------------------------------------------------------\u001b[0m",
      "\u001b[0;31mNameError\u001b[0m                                 Traceback (most recent call last)",
      "Cell \u001b[0;32mIn[14], line 7\u001b[0m\n\u001b[1;32m      4\u001b[0m \u001b[38;5;28;01mfrom\u001b[39;00m \u001b[38;5;21;01mtqdm\u001b[39;00m \u001b[38;5;28;01mimport\u001b[39;00m tqdm\n\u001b[1;32m      5\u001b[0m \u001b[38;5;28;01mfrom\u001b[39;00m \u001b[38;5;21;01mmpl_toolkits\u001b[39;00m\u001b[38;5;21;01m.\u001b[39;00m\u001b[38;5;21;01maxes_grid1\u001b[39;00m \u001b[38;5;28;01mimport\u001b[39;00m make_axes_locatable\n\u001b[0;32m----> 7\u001b[0m real_data \u001b[38;5;241m=\u001b[39m \u001b[43mUOUT\u001b[49m\u001b[38;5;241m.\u001b[39mT\u001b[38;5;241m.\u001b[39mreshape( T_dim \u001b[38;5;241m-\u001b[39m \u001b[38;5;241m1\u001b[39m , X_dim , Y_dim )\n\u001b[1;32m      8\u001b[0m predictions \u001b[38;5;241m=\u001b[39m FFNN_trajectory\u001b[38;5;241m.\u001b[39mT\u001b[38;5;241m.\u001b[39mreshape( T_dim \u001b[38;5;241m-\u001b[39m \u001b[38;5;241m1\u001b[39m , X_dim , Y_dim )\n\u001b[1;32m      9\u001b[0m error \u001b[38;5;241m=\u001b[39m ( UOUT\u001b[38;5;241m.\u001b[39mT \u001b[38;5;241m-\u001b[39m FFNN_trajectory\u001b[38;5;241m.\u001b[39mT )\u001b[38;5;241m.\u001b[39mreshape( T_dim \u001b[38;5;241m-\u001b[39m \u001b[38;5;241m1\u001b[39m , X_dim , Y_dim )\n",
      "\u001b[0;31mNameError\u001b[0m: name 'UOUT' is not defined"
     ]
    }
   ],
   "source": [
    "from matplotlib.animation import FuncAnimation\n",
    "import matplotlib as mpl\n",
    "mpl.rcParams[\"figure.facecolor\"] = \"white\"\n",
    "from tqdm import tqdm\n",
    "from mpl_toolkits.axes_grid1 import make_axes_locatable\n",
    "    \n",
    "real_data = UOUT.T.reshape( T_dim - 1 , X_dim , Y_dim )\n",
    "predictions = FFNN_trajectory.T.reshape( T_dim - 1 , X_dim , Y_dim )\n",
    "error = ( UOUT.T - FFNN_trajectory.T ).reshape( T_dim - 1 , X_dim , Y_dim )\n",
    "\n",
    "total_frames = predictions.shape[0]\n",
    "\n",
    "# First set up the figure, the axis, and the plot element we want to animate\n",
    "fig, axes = plt.subplots( 1 , 3 , figsize = ( 10 , 3) , sharey = True )\n",
    "\n",
    "\n",
    "labels = ['Real Data', 'Prediction', 'Error']\n",
    "zz = [real_data,predictions,error]\n",
    "images = []\n",
    "\n",
    "for tt, label, z in zip(range(axes.shape[0]), labels, zz):\n",
    "    vmin = np.min(z[tt, :, :])\n",
    "    vmax = np.max(z[tt, :, :])\n",
    "    p = axes[tt].imshow(z[tt, :, :].reshape(( X_dim , Y_dim ), order='C').T, cmap='RdBu_r', vmin=vmin, vmax=vmax)\n",
    "    axes[tt].set_title(label)\n",
    "    images.append(p)\n",
    "    div = make_axes_locatable(axes[tt])\n",
    "    cax = div.append_axes('right', '5%', pad=0.1)\n",
    "    fig.colorbar(p, cax=cax)\n",
    "\n",
    "plt.tight_layout()\n",
    "\n",
    "\n",
    "# animation function.  This is called sequentially\n",
    "def animate(i, zz):\n",
    "    for idx_im, (image, z) in enumerate( zip( images , zz ) ):\n",
    "        image.set_array(z[ i , : , : ].reshape((X_dim, Y_dim), order='C').T)\n",
    "\n",
    "\n",
    "anim = FuncAnimation(fig, lambda i: animate(i, zz), frames=total_frames, interval=5)\n",
    "\n",
    "video_name = 'NN_predictions_RD_2.mp4'\n",
    "anim.save(video_name, fps=total_frames/10, extra_args=['-vcodec', 'libx264'])\n",
    "plt.close()"
   ]
  },
  {
   "cell_type": "code",
   "execution_count": 15,
   "id": "b5863bf7-e2cc-4078-ae0c-e40f6d29f7cd",
   "metadata": {},
   "outputs": [
    {
     "data": {
      "text/html": [
       "<iframe width=\"560\" height=\"315\" src=\"https://www.youtube.com/embed/29hF-toSpAI\" title=\"YouTube video player\" frameborder=\"0\"\n",
       "allow=\"accelerometer; autoplay; clipboard-write; encrypted-media; gyroscope; picture-in-picture; web-share\" allowfullscreen></iframe>\n"
      ],
      "text/plain": [
       "<IPython.core.display.HTML object>"
      ]
     },
     "metadata": {},
     "output_type": "display_data"
    }
   ],
   "source": [
    "%%HTML \n",
    "<iframe width=\"560\" height=\"315\" src=\"https://www.youtube.com/embed/29hF-toSpAI\" title=\"YouTube video player\" frameborder=\"0\"\n",
    "allow=\"accelerometer; autoplay; clipboard-write; encrypted-media; gyroscope; picture-in-picture; web-share\" allowfullscreen></iframe>"
   ]
  },
  {
   "cell_type": "markdown",
   "id": "d4ebd1c3-072e-4697-b3e6-ce2c1dc6bbbf",
   "metadata": {},
   "source": [
    "Link to the video: [Feed Forward Neural Network feed with its own output, Reaction Diffusion Equation](https://youtu.be/29hF-toSpAI)"
   ]
  },
  {
   "cell_type": "markdown",
   "id": "30085431-e2bb-404d-bbc9-064a2e5b766c",
   "metadata": {},
   "source": [
    "## point (c)\n",
    "\n",
    "In this exercise we must project the trajectories obtained via the Reaction Diffusion equation into low dimensional latent space and a train neural network to make time predictions."
   ]
  },
  {
   "cell_type": "code",
   "execution_count": 16,
   "id": "e0bc298c-7443-43d7-a201-a19c2076518a",
   "metadata": {},
   "outputs": [
    {
     "ename": "FileNotFoundError",
     "evalue": "[Errno 2] No such file or directory: '../DATA/reaction_diffusion_big.mat'",
     "output_type": "error",
     "traceback": [
      "\u001b[0;31m---------------------------------------------------------------------------\u001b[0m",
      "\u001b[0;31mFileNotFoundError\u001b[0m                         Traceback (most recent call last)",
      "File \u001b[0;32m~/conda/envs/jupybook/lib/python3.10/site-packages/scipy/io/matlab/_mio.py:39\u001b[0m, in \u001b[0;36m_open_file\u001b[0;34m(file_like, appendmat, mode)\u001b[0m\n\u001b[1;32m     38\u001b[0m \u001b[38;5;28;01mtry\u001b[39;00m:\n\u001b[0;32m---> 39\u001b[0m     \u001b[38;5;28;01mreturn\u001b[39;00m \u001b[38;5;28;43mopen\u001b[39;49m\u001b[43m(\u001b[49m\u001b[43mfile_like\u001b[49m\u001b[43m,\u001b[49m\u001b[43m \u001b[49m\u001b[43mmode\u001b[49m\u001b[43m)\u001b[49m, \u001b[38;5;28;01mTrue\u001b[39;00m\n\u001b[1;32m     40\u001b[0m \u001b[38;5;28;01mexcept\u001b[39;00m \u001b[38;5;167;01mOSError\u001b[39;00m \u001b[38;5;28;01mas\u001b[39;00m e:\n\u001b[1;32m     41\u001b[0m     \u001b[38;5;66;03m# Probably \"not found\"\u001b[39;00m\n",
      "\u001b[0;31mFileNotFoundError\u001b[0m: [Errno 2] No such file or directory: '../DATA/reaction_diffusion_big.mat'",
      "\nDuring handling of the above exception, another exception occurred:\n",
      "\u001b[0;31mFileNotFoundError\u001b[0m                         Traceback (most recent call last)",
      "Cell \u001b[0;32mIn[16], line 1\u001b[0m\n\u001b[0;32m----> 1\u001b[0m rd_data \u001b[38;5;241m=\u001b[39m \u001b[43mscipy\u001b[49m\u001b[38;5;241;43m.\u001b[39;49m\u001b[43mio\u001b[49m\u001b[38;5;241;43m.\u001b[39;49m\u001b[43mloadmat\u001b[49m\u001b[43m(\u001b[49m\u001b[38;5;124;43m'\u001b[39;49m\u001b[38;5;124;43m../DATA/reaction_diffusion_big.mat\u001b[39;49m\u001b[38;5;124;43m'\u001b[39;49m\u001b[43m)\u001b[49m\n\u001b[1;32m      2\u001b[0m \u001b[38;5;28mprint\u001b[39m(rd_data\u001b[38;5;241m.\u001b[39mkeys())\n\u001b[1;32m      3\u001b[0m u \u001b[38;5;241m=\u001b[39m rd_data[\u001b[38;5;124m'\u001b[39m\u001b[38;5;124mu\u001b[39m\u001b[38;5;124m'\u001b[39m]\n",
      "File \u001b[0;32m~/conda/envs/jupybook/lib/python3.10/site-packages/scipy/io/matlab/_mio.py:224\u001b[0m, in \u001b[0;36mloadmat\u001b[0;34m(file_name, mdict, appendmat, **kwargs)\u001b[0m\n\u001b[1;32m     87\u001b[0m \u001b[38;5;250m\u001b[39m\u001b[38;5;124;03m\"\"\"\u001b[39;00m\n\u001b[1;32m     88\u001b[0m \u001b[38;5;124;03mLoad MATLAB file.\u001b[39;00m\n\u001b[1;32m     89\u001b[0m \n\u001b[0;32m   (...)\u001b[0m\n\u001b[1;32m    221\u001b[0m \u001b[38;5;124;03m    3.14159265+3.14159265j])\u001b[39;00m\n\u001b[1;32m    222\u001b[0m \u001b[38;5;124;03m\"\"\"\u001b[39;00m\n\u001b[1;32m    223\u001b[0m variable_names \u001b[38;5;241m=\u001b[39m kwargs\u001b[38;5;241m.\u001b[39mpop(\u001b[38;5;124m'\u001b[39m\u001b[38;5;124mvariable_names\u001b[39m\u001b[38;5;124m'\u001b[39m, \u001b[38;5;28;01mNone\u001b[39;00m)\n\u001b[0;32m--> 224\u001b[0m \u001b[38;5;28;01mwith\u001b[39;00m _open_file_context(file_name, appendmat) \u001b[38;5;28;01mas\u001b[39;00m f:\n\u001b[1;32m    225\u001b[0m     MR, _ \u001b[38;5;241m=\u001b[39m mat_reader_factory(f, \u001b[38;5;241m*\u001b[39m\u001b[38;5;241m*\u001b[39mkwargs)\n\u001b[1;32m    226\u001b[0m     matfile_dict \u001b[38;5;241m=\u001b[39m MR\u001b[38;5;241m.\u001b[39mget_variables(variable_names)\n",
      "File \u001b[0;32m~/conda/envs/jupybook/lib/python3.10/contextlib.py:135\u001b[0m, in \u001b[0;36m_GeneratorContextManager.__enter__\u001b[0;34m(self)\u001b[0m\n\u001b[1;32m    133\u001b[0m \u001b[38;5;28;01mdel\u001b[39;00m \u001b[38;5;28mself\u001b[39m\u001b[38;5;241m.\u001b[39margs, \u001b[38;5;28mself\u001b[39m\u001b[38;5;241m.\u001b[39mkwds, \u001b[38;5;28mself\u001b[39m\u001b[38;5;241m.\u001b[39mfunc\n\u001b[1;32m    134\u001b[0m \u001b[38;5;28;01mtry\u001b[39;00m:\n\u001b[0;32m--> 135\u001b[0m     \u001b[38;5;28;01mreturn\u001b[39;00m \u001b[38;5;28;43mnext\u001b[39;49m\u001b[43m(\u001b[49m\u001b[38;5;28;43mself\u001b[39;49m\u001b[38;5;241;43m.\u001b[39;49m\u001b[43mgen\u001b[49m\u001b[43m)\u001b[49m\n\u001b[1;32m    136\u001b[0m \u001b[38;5;28;01mexcept\u001b[39;00m \u001b[38;5;167;01mStopIteration\u001b[39;00m:\n\u001b[1;32m    137\u001b[0m     \u001b[38;5;28;01mraise\u001b[39;00m \u001b[38;5;167;01mRuntimeError\u001b[39;00m(\u001b[38;5;124m\"\u001b[39m\u001b[38;5;124mgenerator didn\u001b[39m\u001b[38;5;124m'\u001b[39m\u001b[38;5;124mt yield\u001b[39m\u001b[38;5;124m\"\u001b[39m) \u001b[38;5;28;01mfrom\u001b[39;00m \u001b[38;5;28;01mNone\u001b[39;00m\n",
      "File \u001b[0;32m~/conda/envs/jupybook/lib/python3.10/site-packages/scipy/io/matlab/_mio.py:17\u001b[0m, in \u001b[0;36m_open_file_context\u001b[0;34m(file_like, appendmat, mode)\u001b[0m\n\u001b[1;32m     15\u001b[0m \u001b[38;5;129m@contextmanager\u001b[39m\n\u001b[1;32m     16\u001b[0m \u001b[38;5;28;01mdef\u001b[39;00m \u001b[38;5;21m_open_file_context\u001b[39m(file_like, appendmat, mode\u001b[38;5;241m=\u001b[39m\u001b[38;5;124m'\u001b[39m\u001b[38;5;124mrb\u001b[39m\u001b[38;5;124m'\u001b[39m):\n\u001b[0;32m---> 17\u001b[0m     f, opened \u001b[38;5;241m=\u001b[39m \u001b[43m_open_file\u001b[49m\u001b[43m(\u001b[49m\u001b[43mfile_like\u001b[49m\u001b[43m,\u001b[49m\u001b[43m \u001b[49m\u001b[43mappendmat\u001b[49m\u001b[43m,\u001b[49m\u001b[43m \u001b[49m\u001b[43mmode\u001b[49m\u001b[43m)\u001b[49m\n\u001b[1;32m     18\u001b[0m     \u001b[38;5;28;01mtry\u001b[39;00m:\n\u001b[1;32m     19\u001b[0m         \u001b[38;5;28;01myield\u001b[39;00m f\n",
      "File \u001b[0;32m~/conda/envs/jupybook/lib/python3.10/site-packages/scipy/io/matlab/_mio.py:45\u001b[0m, in \u001b[0;36m_open_file\u001b[0;34m(file_like, appendmat, mode)\u001b[0m\n\u001b[1;32m     43\u001b[0m     \u001b[38;5;28;01mif\u001b[39;00m appendmat \u001b[38;5;129;01mand\u001b[39;00m \u001b[38;5;129;01mnot\u001b[39;00m file_like\u001b[38;5;241m.\u001b[39mendswith(\u001b[38;5;124m'\u001b[39m\u001b[38;5;124m.mat\u001b[39m\u001b[38;5;124m'\u001b[39m):\n\u001b[1;32m     44\u001b[0m         file_like \u001b[38;5;241m+\u001b[39m\u001b[38;5;241m=\u001b[39m \u001b[38;5;124m'\u001b[39m\u001b[38;5;124m.mat\u001b[39m\u001b[38;5;124m'\u001b[39m\n\u001b[0;32m---> 45\u001b[0m     \u001b[38;5;28;01mreturn\u001b[39;00m \u001b[38;5;28;43mopen\u001b[39;49m\u001b[43m(\u001b[49m\u001b[43mfile_like\u001b[49m\u001b[43m,\u001b[49m\u001b[43m \u001b[49m\u001b[43mmode\u001b[49m\u001b[43m)\u001b[49m, \u001b[38;5;28;01mTrue\u001b[39;00m\n\u001b[1;32m     46\u001b[0m \u001b[38;5;28;01melse\u001b[39;00m:\n\u001b[1;32m     47\u001b[0m     \u001b[38;5;28;01mraise\u001b[39;00m \u001b[38;5;167;01mOSError\u001b[39;00m(\n\u001b[1;32m     48\u001b[0m         \u001b[38;5;124m'\u001b[39m\u001b[38;5;124mReader needs file name or open file-like object\u001b[39m\u001b[38;5;124m'\u001b[39m\n\u001b[1;32m     49\u001b[0m     ) \u001b[38;5;28;01mfrom\u001b[39;00m \u001b[38;5;21;01me\u001b[39;00m\n",
      "\u001b[0;31mFileNotFoundError\u001b[0m: [Errno 2] No such file or directory: '../DATA/reaction_diffusion_big.mat'"
     ]
    }
   ],
   "source": [
    "rd_data = scipy.io.loadmat('../DATA/reaction_diffusion_big.mat')\n",
    "print(rd_data.keys())\n",
    "u = rd_data['u']\n",
    "v = rd_data['v']\n",
    "t = rd_data['t']\n",
    "x = rd_data['x']\n",
    "y = rd_data['y']"
   ]
  },
  {
   "cell_type": "markdown",
   "id": "49a3c836-da0c-424c-893c-cddae14e5d4d",
   "metadata": {},
   "source": [
    "The SVD is calculated and the conserved energy is calculated per included eigenmode.\n",
    "Then the required modes to recover $90\\%, 99\\%$ and $99.9\\%$ of the energy are calulated."
   ]
  },
  {
   "cell_type": "code",
   "execution_count": 17,
   "id": "a70675c7-6f5f-4141-809b-2c4879941a8a",
   "metadata": {},
   "outputs": [
    {
     "ename": "NameError",
     "evalue": "name 'u' is not defined",
     "output_type": "error",
     "traceback": [
      "\u001b[0;31m---------------------------------------------------------------------------\u001b[0m",
      "\u001b[0;31mNameError\u001b[0m                                 Traceback (most recent call last)",
      "Cell \u001b[0;32mIn[17], line 1\u001b[0m\n\u001b[0;32m----> 1\u001b[0m X_u \u001b[38;5;241m=\u001b[39m np\u001b[38;5;241m.\u001b[39mreshape(\u001b[43mu\u001b[49m, (u\u001b[38;5;241m.\u001b[39mshape[\u001b[38;5;241m0\u001b[39m]\u001b[38;5;241m*\u001b[39mu\u001b[38;5;241m.\u001b[39mshape[\u001b[38;5;241m1\u001b[39m], u\u001b[38;5;241m.\u001b[39mshape[\u001b[38;5;241m2\u001b[39m]))\n\u001b[1;32m      2\u001b[0m U, S, VT \u001b[38;5;241m=\u001b[39m np\u001b[38;5;241m.\u001b[39mlinalg\u001b[38;5;241m.\u001b[39msvd(X_u, full_matrices\u001b[38;5;241m=\u001b[39m\u001b[38;5;28;01mFalse\u001b[39;00m)\n\u001b[1;32m      3\u001b[0m S \u001b[38;5;241m=\u001b[39m np\u001b[38;5;241m.\u001b[39mdiag(S)\n",
      "\u001b[0;31mNameError\u001b[0m: name 'u' is not defined"
     ]
    }
   ],
   "source": [
    "X_u = np.reshape(u, (u.shape[0]*u.shape[1], u.shape[2]))\n",
    "U, S, VT = np.linalg.svd(X_u, full_matrices=False)\n",
    "S = np.diag(S)"
   ]
  },
  {
   "cell_type": "code",
   "execution_count": 18,
   "id": "357853e7-4180-44ae-92e5-f7bdd3560ccd",
   "metadata": {},
   "outputs": [
    {
     "ename": "NameError",
     "evalue": "name 'U' is not defined",
     "output_type": "error",
     "traceback": [
      "\u001b[0;31m---------------------------------------------------------------------------\u001b[0m",
      "\u001b[0;31mNameError\u001b[0m                                 Traceback (most recent call last)",
      "Cell \u001b[0;32mIn[18], line 1\u001b[0m\n\u001b[0;32m----> 1\u001b[0m E \u001b[38;5;241m=\u001b[39m np\u001b[38;5;241m.\u001b[39mzeros(\u001b[43mU\u001b[49m\u001b[38;5;241m.\u001b[39mshape[\u001b[38;5;241m-\u001b[39m\u001b[38;5;241m1\u001b[39m])\n\u001b[1;32m      2\u001b[0m E_org \u001b[38;5;241m=\u001b[39m np\u001b[38;5;241m.\u001b[39mlinalg\u001b[38;5;241m.\u001b[39mnorm(X_u)\u001b[38;5;241m*\u001b[39m\u001b[38;5;241m*\u001b[39m\u001b[38;5;241m2\u001b[39m \u001b[38;5;66;03m# Energy calculated as the squared Frobenius norm\u001b[39;00m\n\u001b[1;32m      3\u001b[0m \u001b[38;5;28;01mfor\u001b[39;00m r \u001b[38;5;129;01min\u001b[39;00m \u001b[38;5;28mrange\u001b[39m(U\u001b[38;5;241m.\u001b[39mshape[\u001b[38;5;241m-\u001b[39m\u001b[38;5;241m1\u001b[39m]):\n\u001b[1;32m      4\u001b[0m     \u001b[38;5;66;03m# X_approx = U[:, :r+1] @ S[:r+1, :r+1] @ VT[:r+1, :]\u001b[39;00m\n",
      "\u001b[0;31mNameError\u001b[0m: name 'U' is not defined"
     ]
    }
   ],
   "source": [
    "E = np.zeros(U.shape[-1])\n",
    "E_org = np.linalg.norm(X_u)**2 # Energy calculated as the squared Frobenius norm\n",
    "for r in range(U.shape[-1]):\n",
    "    # X_approx = U[:, :r+1] @ S[:r+1, :r+1] @ VT[:r+1, :]\n",
    "    X_approx = U[:, :r] @ S[:r, :r] @ VT[:r, :]\n",
    "    E[r] = np.linalg.norm(X_approx)**2/E_org # Energy as a fraction of the original energy\n",
    "\n",
    "energy_targets = [0.9, 0.99, 0.999]\n",
    "r_modes = np.zeros(len(energy_targets))\n",
    "for i, energy_target in enumerate(energy_targets):\n",
    "    r_modes[i] = np.min(np.where(E >=energy_target)[0])\n",
    "    print(f\"For {energy_target*100}% of the energy, {r_modes[i]+1} modes are required\")"
   ]
  },
  {
   "cell_type": "markdown",
   "id": "204deb57-b4d0-4d13-9035-adaf87084ae5",
   "metadata": {},
   "source": [
    "The first six eigenmodes are plotted."
   ]
  },
  {
   "cell_type": "code",
   "execution_count": 19,
   "id": "e232c9f2-ba24-464b-a657-71655d63be52",
   "metadata": {},
   "outputs": [
    {
     "ename": "NameError",
     "evalue": "name 'U' is not defined",
     "output_type": "error",
     "traceback": [
      "\u001b[0;31m---------------------------------------------------------------------------\u001b[0m",
      "\u001b[0;31mNameError\u001b[0m                                 Traceback (most recent call last)",
      "Cell \u001b[0;32mIn[19], line 3\u001b[0m\n\u001b[1;32m      1\u001b[0m fig, axes \u001b[38;5;241m=\u001b[39m plt\u001b[38;5;241m.\u001b[39msubplots(\u001b[38;5;241m2\u001b[39m, \u001b[38;5;241m3\u001b[39m, figsize\u001b[38;5;241m=\u001b[39m(\u001b[38;5;241m10\u001b[39m, \u001b[38;5;241m6\u001b[39m))\n\u001b[1;32m      2\u001b[0m \u001b[38;5;28;01mfor\u001b[39;00m r, ax \u001b[38;5;129;01min\u001b[39;00m \u001b[38;5;28menumerate\u001b[39m(axes\u001b[38;5;241m.\u001b[39mravel()):\n\u001b[0;32m----> 3\u001b[0m     eigen_vector_r \u001b[38;5;241m=\u001b[39m \u001b[43mU\u001b[49m[:, r]\n\u001b[1;32m      4\u001b[0m     ax\u001b[38;5;241m.\u001b[39mimshow(eigen_vector_r\u001b[38;5;241m.\u001b[39mreshape(u\u001b[38;5;241m.\u001b[39mshape[:\u001b[38;5;241m-\u001b[39m\u001b[38;5;241m1\u001b[39m], order\u001b[38;5;241m=\u001b[39m\u001b[38;5;124m'\u001b[39m\u001b[38;5;124mC\u001b[39m\u001b[38;5;124m'\u001b[39m)\u001b[38;5;241m.\u001b[39mT, cmap\u001b[38;5;241m=\u001b[39m\u001b[38;5;124m\"\u001b[39m\u001b[38;5;124mRdBu_r\u001b[39m\u001b[38;5;124m\"\u001b[39m)\n\u001b[1;32m      5\u001b[0m     ax\u001b[38;5;241m.\u001b[39mset_title(\u001b[38;5;124mf\u001b[39m\u001b[38;5;124m\"\u001b[39m\u001b[38;5;124mEigen Mode \u001b[39m\u001b[38;5;132;01m{\u001b[39;00mr\u001b[38;5;241m+\u001b[39m\u001b[38;5;241m1\u001b[39m\u001b[38;5;132;01m}\u001b[39;00m\u001b[38;5;124m\"\u001b[39m)\n",
      "\u001b[0;31mNameError\u001b[0m: name 'U' is not defined"
     ]
    },
    {
     "data": {
      "image/png": "[encoded data removed]",
      "text/plain": [
       "<Figure size 1000x600 with 6 Axes>"
      ]
     },
     "metadata": {},
     "output_type": "display_data"
    }
   ],
   "source": [
    "fig, axes = plt.subplots(2, 3, figsize=(10, 6))\n",
    "for r, ax in enumerate(axes.ravel()):\n",
    "    eigen_vector_r = U[:, r]\n",
    "    ax.imshow(eigen_vector_r.reshape(u.shape[:-1], order='C').T, cmap=\"RdBu_r\")\n",
    "    ax.set_title(f\"Eigen Mode {r+1}\")"
   ]
  },
  {
   "cell_type": "markdown",
   "id": "278fcb36-5796-4b1c-8de9-237ae7666dbf",
   "metadata": {},
   "source": [
    "The amplitude of the first six eigenmodes are calculated and then plotted."
   ]
  },
  {
   "cell_type": "code",
   "execution_count": 20,
   "id": "874c8eaa-da1a-4942-a6ed-cbbbba624968",
   "metadata": {},
   "outputs": [
    {
     "ename": "NameError",
     "evalue": "name 'S' is not defined",
     "output_type": "error",
     "traceback": [
      "\u001b[0;31m---------------------------------------------------------------------------\u001b[0m",
      "\u001b[0;31mNameError\u001b[0m                                 Traceback (most recent call last)",
      "Cell \u001b[0;32mIn[20], line 1\u001b[0m\n\u001b[0;32m----> 1\u001b[0m SVT \u001b[38;5;241m=\u001b[39m \u001b[43mS\u001b[49m \u001b[38;5;241m@\u001b[39m VT\n\u001b[1;32m      2\u001b[0m fig, axes \u001b[38;5;241m=\u001b[39m plt\u001b[38;5;241m.\u001b[39msubplots(\u001b[38;5;241m2\u001b[39m, \u001b[38;5;241m3\u001b[39m, figsize\u001b[38;5;241m=\u001b[39m(\u001b[38;5;241m10\u001b[39m, \u001b[38;5;241m5\u001b[39m))\n\u001b[1;32m      3\u001b[0m plt\u001b[38;5;241m.\u001b[39mtight_layout()\n",
      "\u001b[0;31mNameError\u001b[0m: name 'S' is not defined"
     ]
    }
   ],
   "source": [
    "SVT = S @ VT\n",
    "fig, axes = plt.subplots(2, 3, figsize=(10, 5))\n",
    "plt.tight_layout()\n",
    "for r, ax in enumerate(axes.ravel()):\n",
    "    eigen_vector_r = SVT[r, :]\n",
    "    ax.plot(eigen_vector_r)\n",
    "    ax.set_title(f\"Eigen Amplitude {r+1}\")\n",
    "    ax.grid()"
   ]
  },
  {
   "cell_type": "markdown",
   "id": "cff2f74b-dc46-4728-9854-af07e27b36a6",
   "metadata": {},
   "source": [
    "Now a FFNN is trained to step forward the latent space amplitudes."
   ]
  },
  {
   "cell_type": "code",
   "execution_count": 21,
   "id": "b1d9702b-e0d6-4be9-85b9-c9a013281441",
   "metadata": {},
   "outputs": [
    {
     "ename": "NameError",
     "evalue": "name 'SVT' is not defined",
     "output_type": "error",
     "traceback": [
      "\u001b[0;31m---------------------------------------------------------------------------\u001b[0m",
      "\u001b[0;31mNameError\u001b[0m                                 Traceback (most recent call last)",
      "Cell \u001b[0;32mIn[21], line 3\u001b[0m\n\u001b[1;32m      1\u001b[0m \u001b[38;5;66;03m# Prepare the dataset.\u001b[39;00m\n\u001b[1;32m      2\u001b[0m r_modes \u001b[38;5;241m=\u001b[39m \u001b[38;5;241m6\u001b[39m\n\u001b[0;32m----> 3\u001b[0m features \u001b[38;5;241m=\u001b[39m \u001b[43mSVT\u001b[49m[:r_modes, :\u001b[38;5;241m-\u001b[39m\u001b[38;5;241m1\u001b[39m]\u001b[38;5;241m.\u001b[39mT\n\u001b[1;32m      4\u001b[0m targets \u001b[38;5;241m=\u001b[39m SVT[:r_modes, \u001b[38;5;241m1\u001b[39m:]\u001b[38;5;241m.\u001b[39mT\n\u001b[1;32m      5\u001b[0m idx \u001b[38;5;241m=\u001b[39m np\u001b[38;5;241m.\u001b[39marange(features\u001b[38;5;241m.\u001b[39mshape[\u001b[38;5;241m0\u001b[39m])\n",
      "\u001b[0;31mNameError\u001b[0m: name 'SVT' is not defined"
     ]
    }
   ],
   "source": [
    "# Prepare the dataset.\n",
    "r_modes = 6\n",
    "features = SVT[:r_modes, :-1].T\n",
    "targets = SVT[:r_modes, 1:].T\n",
    "idx = np.arange(features.shape[0])\n",
    "\n",
    "train_idx = idx[:int(0.8*len(idx))]\n",
    "test_idx = idx[int(0.8*len(idx)):int(0.95*len(idx))]\n",
    "val_idx = idx[int(0.95*len(idx)):]\n",
    "\n",
    "feature_train = features[train_idx, :]\n",
    "target_train = targets[train_idx, :]\n",
    "feature_test = features[test_idx, :]\n",
    "target_test = targets[test_idx, :]\n",
    "feature_val = features[val_idx, :]\n",
    "target_val = targets[val_idx, :]\n",
    "\n",
    "# Implement the tensorflow model.\n",
    "import tensorflow as tf\n",
    "from tensorflow.keras.models import Sequential\n",
    "# from tensorflow.keras.layers import Dense\n",
    "\n",
    "\n",
    "model = tf.keras.models.Sequential([tf.keras.layers.InputLayer(input_shape=features.shape[1]),\n",
    "                                    tf.keras.layers.Dense(64, activation=tf.math.log_sigmoid),\n",
    "                                    tf.keras.layers.Dense(64, activation='linear'),\n",
    "                                    tf.keras.layers.Dense(targets.shape[1])])  \n",
    "\n",
    "compile_kwargs = {\"loss\": 'mse',\n",
    "                  \"optimizer\": tf.keras.optimizers.Adam(1e-3)}\n",
    "\n",
    "model.compile(**compile_kwargs)\n",
    "\n",
    "\n",
    "fit_kwargs = {\"epochs\": 1000,\n",
    "              \"verbose\": 0, # ! no printing of the training process (takes 18s on my machine)\n",
    "              \"validation_data\": (feature_val, target_val)}\n",
    "\n",
    "# Fit the model and plot the training history.\n",
    "model.fit(feature_train, target_train, **fit_kwargs)\n",
    "fig = plt.figure()\n",
    "plt.semilogy(model.history.history['loss'])\n",
    "plt.semilogy(model.history.history['val_loss'])\n",
    "plt.legend(['loss', 'val_loss'])\n",
    "plt.show();"
   ]
  },
  {
   "cell_type": "markdown",
   "id": "240577f7-4bbf-4d3e-935a-a7b1e4207f26",
   "metadata": {},
   "source": [
    "Plot the predictions against the real data. Looking at the funtions one would suspect that fitting a polynomial might yield better results than the current neural network. This knowledge could be implemented to chose more suitable activation functions."
   ]
  },
  {
   "cell_type": "code",
   "execution_count": 22,
   "id": "d45049b3-4be2-4beb-9235-35e5b4a82e71",
   "metadata": {},
   "outputs": [
    {
     "ename": "NameError",
     "evalue": "name 'model' is not defined",
     "output_type": "error",
     "traceback": [
      "\u001b[0;31m---------------------------------------------------------------------------\u001b[0m",
      "\u001b[0;31mNameError\u001b[0m                                 Traceback (most recent call last)",
      "Cell \u001b[0;32mIn[22], line 1\u001b[0m\n\u001b[0;32m----> 1\u001b[0m pred \u001b[38;5;241m=\u001b[39m \u001b[43mmodel\u001b[49m\u001b[38;5;241m.\u001b[39mpredict(features)\n\u001b[1;32m      2\u001b[0m colors \u001b[38;5;241m=\u001b[39m [\u001b[38;5;124m'\u001b[39m\u001b[38;5;124mb\u001b[39m\u001b[38;5;124m'\u001b[39m, \u001b[38;5;124m'\u001b[39m\u001b[38;5;124mg\u001b[39m\u001b[38;5;124m'\u001b[39m, \u001b[38;5;124m'\u001b[39m\u001b[38;5;124mr\u001b[39m\u001b[38;5;124m'\u001b[39m, \u001b[38;5;124m'\u001b[39m\u001b[38;5;124mc\u001b[39m\u001b[38;5;124m'\u001b[39m, \u001b[38;5;124m'\u001b[39m\u001b[38;5;124mm\u001b[39m\u001b[38;5;124m'\u001b[39m, \u001b[38;5;124m'\u001b[39m\u001b[38;5;124my\u001b[39m\u001b[38;5;124m'\u001b[39m]\n\u001b[1;32m      4\u001b[0m fig, axes \u001b[38;5;241m=\u001b[39m plt\u001b[38;5;241m.\u001b[39msubplots(\u001b[38;5;241m2\u001b[39m, \u001b[38;5;241m3\u001b[39m, figsize\u001b[38;5;241m=\u001b[39m(\u001b[38;5;241m10\u001b[39m, \u001b[38;5;241m5\u001b[39m))\n",
      "\u001b[0;31mNameError\u001b[0m: name 'model' is not defined"
     ]
    }
   ],
   "source": [
    "pred = model.predict(features)\n",
    "colors = ['b', 'g', 'r', 'c', 'm', 'y']\n",
    "\n",
    "fig, axes = plt.subplots(2, 3, figsize=(10, 5))\n",
    "plt.tight_layout()\n",
    "for r, (ax, color) in enumerate(zip(axes.ravel(), colors)):\n",
    "    ax.plot(t[1:], pred[:, r], color=color)\n",
    "    ax.scatter(t[1:], targets[:, r], s=1.5, color=color, marker='x')\n",
    "    ax.set_title(f\"Eigen Amplitude {r+1}\")\n",
    "    ax.grid()\n",
    "leg = ax.legend(['NN', 'ODE'])\n",
    "leg.legendHandles[0].set_color('black')\n",
    "leg.legendHandles[1].set_color('black')"
   ]
  },
  {
   "cell_type": "markdown",
   "id": "c756a2ea-27f2-4ceb-b298-2db46612e13c",
   "metadata": {},
   "source": [
    "A movie of the reproduced reaction is shown below, please note that NN plot includes data from the training, test and validaton sets:"
   ]
  },
  {
   "cell_type": "code",
   "execution_count": 23,
   "id": "91cfc315-2d12-4447-8c17-4aba141df499",
   "metadata": {},
   "outputs": [
    {
     "ename": "NameError",
     "evalue": "name 'SVT' is not defined",
     "output_type": "error",
     "traceback": [
      "\u001b[0;31m---------------------------------------------------------------------------\u001b[0m",
      "\u001b[0;31mNameError\u001b[0m                                 Traceback (most recent call last)",
      "Cell \u001b[0;32mIn[23], line 9\u001b[0m\n\u001b[1;32m      6\u001b[0m \u001b[38;5;66;03m# First set up the figure, the axis, and the plot element we want to animate\u001b[39;00m\n\u001b[1;32m      7\u001b[0m fig, axes \u001b[38;5;241m=\u001b[39m plt\u001b[38;5;241m.\u001b[39msubplots(\u001b[38;5;241m2\u001b[39m, \u001b[38;5;241m2\u001b[39m, figsize\u001b[38;5;241m=\u001b[39m(\u001b[38;5;241m5\u001b[39m, \u001b[38;5;241m4\u001b[39m), sharex\u001b[38;5;241m=\u001b[39m\u001b[38;5;28;01mTrue\u001b[39;00m, sharey\u001b[38;5;241m=\u001b[39m\u001b[38;5;28;01mTrue\u001b[39;00m)\n\u001b[0;32m----> 9\u001b[0m w_k \u001b[38;5;241m=\u001b[39m \u001b[43mSVT\u001b[49m[:r_modes, \u001b[38;5;241m1\u001b[39m:]\n\u001b[1;32m     10\u001b[0m w_k_pred \u001b[38;5;241m=\u001b[39m model\u001b[38;5;241m.\u001b[39mpredict(np\u001b[38;5;241m.\u001b[39matleast_2d(features))\u001b[38;5;241m.\u001b[39mT \u001b[38;5;66;03m# reshape is to make it a 2D array\u001b[39;00m\n\u001b[1;32m     11\u001b[0m X_trunc \u001b[38;5;241m=\u001b[39m U[:, :r_modes] \u001b[38;5;241m@\u001b[39m w_k\n",
      "\u001b[0;31mNameError\u001b[0m: name 'SVT' is not defined"
     ]
    },
    {
     "data": {
      "image/png": "[encoded data removed]",
      "text/plain": [
       "<Figure size 500x400 with 4 Axes>"
      ]
     },
     "metadata": {},
     "output_type": "display_data"
    }
   ],
   "source": [
    "from matplotlib.animation import FuncAnimation\n",
    "import matplotlib as mpl\n",
    "mpl.rcParams[\"figure.facecolor\"] = \"white\"\n",
    "from mpl_toolkits.axes_grid1 import make_axes_locatable\n",
    "\n",
    "# First set up the figure, the axis, and the plot element we want to animate\n",
    "fig, axes = plt.subplots(2, 2, figsize=(5, 4), sharex=True, sharey=True)\n",
    "\n",
    "w_k = SVT[:r_modes, 1:]\n",
    "w_k_pred = model.predict(np.atleast_2d(features)).T # reshape is to make it a 2D array\n",
    "X_trunc = U[:, :r_modes] @ w_k\n",
    "X_trunc = U[:, :r_modes] @ w_k\n",
    "X_trunc_pred = U[:, :r_modes] @ w_k_pred\n",
    "zzs = [X_u[:, 1:], X_trunc, X_trunc_pred, (X_trunc - X_u[:, 1:])]\n",
    "\n",
    "labels = ['Original', 'Truncated', 'NN Truncacted', 'Error']\n",
    "\n",
    "extent = np.round(np.array([np.min(x), np.max(x), np.min(y), np.max(y)]), 0).astype(int)\n",
    "plt.tight_layout()\n",
    "images = []\n",
    "for ax, zz, label in zip(axes.ravel(), zzs, labels):\n",
    "    pos = ax.imshow(zz[:, 0].reshape(u.shape[:-1], order='C').T, cmap=\"RdBu_r\", extent=extent)\n",
    "    ax.set_title(label)\n",
    "    images.append(pos)\n",
    "axes[1, 0].set_xlabel('x')\n",
    "axes[1, 1].set_xlabel('x')\n",
    "axes[0, 0].set_ylabel('y')\n",
    "axes[1, 0].set_ylabel('y')\n",
    "\n",
    "div = make_axes_locatable(axes[1, 1])\n",
    "cax = div.append_axes('right', '5%', '5%')\n",
    "cb = fig.colorbar(pos, cax=cax)\n",
    "\n",
    "total_frames = X_trunc.shape[-1]\n",
    "\n",
    "# animation function.  This is called sequentially\n",
    "def animate(i):\n",
    "    for idx_im, image in enumerate(images):\n",
    "        image.set_array(zzs[idx_im][:, i].reshape(u.shape[:-1], order='C').T)\n",
    "        images[idx_im] = image\n",
    "    cax.cla()\n",
    "    fig.colorbar(images[-1], cax=cax)\n",
    "    return images\n",
    "\n",
    "anim = FuncAnimation(fig, lambda i: animate(i), frames=total_frames, interval=(t[-1]-t[1])*1000/total_frames)\n",
    "\n",
    "video_name = 'NN_predictions_RD_SVD.mp4'\n",
    "anim.save(video_name, fps=20, extra_args=['-vcodec', 'libx264'])\n",
    "plt.close()"
   ]
  },
  {
   "cell_type": "code",
   "execution_count": 24,
   "id": "a7a218d9-7003-4340-ae98-b4f576252128",
   "metadata": {},
   "outputs": [
    {
     "data": {
      "text/html": [
       "<iframe width=\"560\" height=\"315\" src=\"https://www.youtube.com/embed/FJV9dVd1i3I\" title=\"YouTube video player\" frameborder=\"0\" \n",
       "allow=\"accelerometer; autoplay; clipboard-write; encrypted-media; gyroscope; picture-in-picture; web-share\" allowfullscreen></iframe>\n"
      ],
      "text/plain": [
       "<IPython.core.display.HTML object>"
      ]
     },
     "metadata": {},
     "output_type": "display_data"
    }
   ],
   "source": [
    "%%HTML\n",
    "<iframe width=\"560\" height=\"315\" src=\"https://www.youtube.com/embed/FJV9dVd1i3I\" title=\"YouTube video player\" frameborder=\"0\" \n",
    "allow=\"accelerometer; autoplay; clipboard-write; encrypted-media; gyroscope; picture-in-picture; web-share\" allowfullscreen></iframe>"
   ]
  },
  {
   "cell_type": "markdown",
   "id": "b5bd31ac-660a-408c-9a12-8b84d8f6be54",
   "metadata": {},
   "source": [
    "Link to the video: [Feed Forward Neural Network predictions of the SVD reduced Reaction Diffusion dynamic](https://youtu.be/FJV9dVd1i3I)"
   ]
  }
 ],
 "metadata": {
  "kernelspec": {
   "display_name": "jupybook",
   "language": "python",
   "name": "python3"
  },
  "language_info": {
   "codemirror_mode": {
    "name": "ipython",
    "version": 3
   },
   "file_extension": ".py",
   "mimetype": "text/x-python",
   "name": "python",
   "nbconvert_exporter": "python",
   "pygments_lexer": "ipython3",
   "version": "3.10.8"
  }
 },
 "nbformat": 4,
 "nbformat_minor": 5
}